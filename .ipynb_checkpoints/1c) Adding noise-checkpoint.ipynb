{
 "cells": [
  {
   "cell_type": "code",
   "execution_count": 1,
   "id": "sensitive-supplier",
   "metadata": {},
   "outputs": [],
   "source": [
    "import numpy as np \n",
    "import pandas as pd\n",
    "import open3d as o3d\n",
    "import copy\n",
    "import matplotlib.pyplot as plt\n",
    "import matplotlib.colors as col\n",
    "import seaborn as sns\n",
    "import scipy.stats as st\n",
    "\n",
    "from data_processing import excel_to_pcd, preprocess_point_cloud, process_images, colour_map\n",
    "from align_func import execute_global_registration, icp_registration, colored_icp, calculate_mae\n"
   ]
  },
  {
   "cell_type": "code",
   "execution_count": 2,
   "id": "funded-symbol",
   "metadata": {},
   "outputs": [],
   "source": [
    "def process_color(filepath, skiprows, usecols):\n",
    "    color_excel = pd.read_excel(filepath, skiprows = skiprows, header = 0, usecols = usecols) \n",
    "    image_color = color_excel.to_numpy(dtype='float64')\n",
    "    min_intensity=np.amin(image_color)\n",
    "    max_intensity=np.amax(image_color)\n",
    "    norm_color = (image_color - min_intensity) / (max_intensity - min_intensity) *100 \n",
    "    return norm_color\n"
   ]
  },
  {
   "cell_type": "markdown",
   "id": "close-consortium",
   "metadata": {},
   "source": [
    "# Import data"
   ]
  },
  {
   "cell_type": "code",
   "execution_count": 3,
   "id": "thick-circle",
   "metadata": {},
   "outputs": [],
   "source": [
    "target_path = \"./datasets/2-permutation/xyz_target.xls\"\n",
    "source_path = \"./datasets/2-permutation/xyz_source.xls\"\n",
    "target_color_path = \"./datasets/2-permutation/sox2_target.xls\"\n",
    "source_color_path = \"./datasets/2-permutation/sox2_source.xls\"\n",
    "\n",
    "target_color = process_color(target_color_path, [0,1,2], [0])\n",
    "source_color = process_color(source_color_path, [0,1,2], [0])"
   ]
  },
  {
   "cell_type": "code",
   "execution_count": 4,
   "id": "opposite-helicopter",
   "metadata": {},
   "outputs": [
    {
     "name": "stdout",
     "output_type": "stream",
     "text": [
      ":: Point Cloud was not downsampled\n",
      ":: Estimate normal with search radius 20.\n",
      ":: Compute FPFH feature with search radius 50.\n",
      "---------------------------------------\n",
      ":: Point Cloud was not downsampled\n",
      ":: Estimate normal with search radius 20.\n",
      ":: Compute FPFH feature with search radius 50.\n",
      "---------------------------------------\n"
     ]
    }
   ],
   "source": [
    "positions_paths = [source_path] + [target_path]\n",
    "color_paths = [source_color_path] + [target_color_path]\n",
    "\n",
    "pcd,fpfh,image_rgb = process_images(positions_paths, color_paths, skiprows = [0,1,2])\n",
    "\n",
    "source, target = pcd\n",
    "source_fpfh,target_fpfh = fpfh\n",
    "source_rgb, target_rgb = image_rgb# "
   ]
  },
  {
   "cell_type": "markdown",
   "id": "violent-detective",
   "metadata": {},
   "source": [
    "# Simulating noise vector"
   ]
  },
  {
   "cell_type": "code",
   "execution_count": 64,
   "id": "pacific-snowboard",
   "metadata": {},
   "outputs": [],
   "source": [
    "noise_sd = np.linspace(0,500,20)\n",
    "len_noise = len(noise_sd)\n",
    "size_data = tuple([len_noise] + list(np.asarray(source.points).shape))"
   ]
  },
  {
   "cell_type": "code",
   "execution_count": null,
   "id": "annoying-billion",
   "metadata": {},
   "outputs": [],
   "source": []
  },
  {
   "cell_type": "code",
   "execution_count": 14,
   "id": "instant-interference",
   "metadata": {},
   "outputs": [],
   "source": [
    "list_of_arrays = [np.asarray(source.points) for i in range(len_noise)]"
   ]
  },
  {
   "cell_type": "code",
   "execution_count": 65,
   "id": "novel-vietnam",
   "metadata": {},
   "outputs": [
    {
     "ename": "ValueError",
     "evalue": "shape mismatch: objects cannot be broadcast to a single shape",
     "output_type": "error",
     "traceback": [
      "\u001b[1;31m---------------------------------------------------------------------------\u001b[0m",
      "\u001b[1;31mValueError\u001b[0m                                Traceback (most recent call last)",
      "\u001b[1;32m<ipython-input-65-6087fa1d17e6>\u001b[0m in \u001b[0;36m<module>\u001b[1;34m\u001b[0m\n\u001b[1;32m----> 1\u001b[1;33m \u001b[0mnoise_array\u001b[0m \u001b[1;33m=\u001b[0m \u001b[0mnp\u001b[0m\u001b[1;33m.\u001b[0m\u001b[0mrandom\u001b[0m\u001b[1;33m.\u001b[0m\u001b[0mnormal\u001b[0m\u001b[1;33m(\u001b[0m\u001b[1;36m0\u001b[0m\u001b[1;33m,\u001b[0m \u001b[0mnoise_sd\u001b[0m\u001b[1;33m,\u001b[0m \u001b[0msize_data\u001b[0m\u001b[1;33m)\u001b[0m\u001b[1;33m\u001b[0m\u001b[1;33m\u001b[0m\u001b[0m\n\u001b[0m",
      "\u001b[1;32mmtrand.pyx\u001b[0m in \u001b[0;36mnumpy.random.mtrand.RandomState.normal\u001b[1;34m()\u001b[0m\n",
      "\u001b[1;32m_common.pyx\u001b[0m in \u001b[0;36mnumpy.random._common.cont\u001b[1;34m()\u001b[0m\n",
      "\u001b[1;32m_common.pyx\u001b[0m in \u001b[0;36mnumpy.random._common.cont_broadcast_2\u001b[1;34m()\u001b[0m\n",
      "\u001b[1;32m__init__.pxd\u001b[0m in \u001b[0;36mnumpy.PyArray_MultiIterNew3\u001b[1;34m()\u001b[0m\n",
      "\u001b[1;31mValueError\u001b[0m: shape mismatch: objects cannot be broadcast to a single shape"
     ]
    }
   ],
   "source": [
    "noise_array = np.random.normal(0, noise_sd, size_data)"
   ]
  },
  {
   "cell_type": "code",
   "execution_count": 63,
   "id": "filled-balloon",
   "metadata": {},
   "outputs": [
    {
     "data": {
      "text/plain": [
       "(2363, 3, 20)"
      ]
     },
     "execution_count": 63,
     "metadata": {},
     "output_type": "execute_result"
    }
   ],
   "source": [
    "noise_array.shape"
   ]
  }
 ],
 "metadata": {
  "kernelspec": {
   "display_name": "Python 3",
   "language": "python",
   "name": "python3"
  },
  "language_info": {
   "codemirror_mode": {
    "name": "ipython",
    "version": 3
   },
   "file_extension": ".py",
   "mimetype": "text/x-python",
   "name": "python",
   "nbconvert_exporter": "python",
   "pygments_lexer": "ipython3",
   "version": "3.8.3"
  },
  "toc": {
   "base_numbering": 1,
   "nav_menu": {},
   "number_sections": true,
   "sideBar": true,
   "skip_h1_title": false,
   "title_cell": "Table of Contents",
   "title_sidebar": "Contents",
   "toc_cell": false,
   "toc_position": {},
   "toc_section_display": true,
   "toc_window_display": false
  }
 },
 "nbformat": 4,
 "nbformat_minor": 5
}
