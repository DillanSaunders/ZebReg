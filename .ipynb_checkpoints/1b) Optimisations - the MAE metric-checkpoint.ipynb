{
 "cells": [
  {
   "cell_type": "markdown",
   "metadata": {},
   "source": [
    "# Introduction\n",
    "\n"
   ]
  },
  {
   "cell_type": "markdown",
   "metadata": {},
   "source": [
    "All zebrafish tailbuds were stained with DAPI for nuclear DNA detection prior to microscopy imaging. On top of the DNA stain, combinations of mRNA sequences were also labelled with distinct fluorophores using the `Hybridisation Chain Reaction (HCR)` technique. Consequently, for our data, our images range from having 1 (DAPI only) up to 6 (DAPI and 5 other fluorophores) color channels. \n",
    "\n",
    "For two images with at least 1 color channel in common, the shared color channel confers additional information that we can leverage to assess the quality of the image registration. We do this by quantifying the difference in normalised signal intensities between the shared color channel of the 2 images (color intensity residual) after image registration is performed. Using this metric, we expect the optimal image registration output to show the smallest color intensity residual. However, it is obvious that images of different zebrafish tailbuds, even if registered optimally, will *always* differ in their color intensities due to biological variability (different rates of development, stochasticity in nuclear positioning etc.). The relevant question, therefore, is whether the residual is smaller than the cases where the images were poorly registered.\n",
    "\n",
    "**Null hypothesis**: Image registration has no effect in reducing the color intensity residuals.\n",
    "\n",
    "**Alternate hypothesis**: Image registration reduces the color intensity residuals.\n"
   ]
  },
  {
   "cell_type": "markdown",
   "metadata": {},
   "source": [
    "## The mean absolute error (MAE) test statistic"
   ]
  },
  {
   "cell_type": "markdown",
   "metadata": {},
   "source": [
    "\n",
    "To quantify the residuals, we chose the mean absolute error ${\\rm MAE} = \\frac {1} {n} \\sum_{i=1}^{n}\n",
    "\\mid{y_i - x_i}\\mid$ as our summary statistic, which measures the error between paired observations of a phenomenon. Its chief advantage over related measures such as the root mean-squared error (RMSE) lie in increased interpretability, as each residual contributes proportionately (as opposed to quadratically in the case of the RMSE) to the overall MAE statistic. In addition, no computational difficulty arises when the intensity of a target point is 0, which occurs when the target point is unmapped.\n",
    "\n",
    "Using the MAE as our test statistic, we will conduct a permutation test. Briefly, we construct the MAE distribution under the null hypothesis and obtain the probability of observing a result as extreme as the registration's MAE value, assuming that the null hypothesis were true (p-value). "
   ]
  },
  {
   "cell_type": "code",
   "execution_count": 1,
   "metadata": {},
   "outputs": [],
   "source": [
    "import numpy as np \n",
    "import pandas as pd\n",
    "import open3d as o3d\n",
    "import copy\n",
    "import matplotlib.pyplot as plt\n",
    "import matplotlib.colors as col\n",
    "import seaborn as sns\n",
    "import scipy.stats as st\n",
    "\n",
    "from data_processing import excel_to_pcd, preprocess_point_cloud, process_images, colour_map\n",
    "from align_func import execute_global_registration, icp_registration, colored_icp, calculate_mae\n"
   ]
  },
  {
   "cell_type": "code",
   "execution_count": 2,
   "metadata": {},
   "outputs": [],
   "source": [
    "def process_color(filepath, skiprows, usecols):\n",
    "    color_excel = pd.read_excel(filepath, skiprows = skiprows, header = 0, usecols = usecols) \n",
    "    image_color = color_excel.to_numpy(dtype='float64')\n",
    "    min_intensity=np.amin(image_color)\n",
    "    max_intensity=np.amax(image_color)\n",
    "    norm_color = (image_color - min_intensity) / (max_intensity - min_intensity) *100 \n",
    "    return norm_color\n",
    "\n",
    "def mae_permutation(num_permute, color_array):\n",
    "    mae_list = []\n",
    "    for i in range(num_permute):\n",
    "        np.random.seed(i)\n",
    "        x = np.random.permutation(color_array)\n",
    "        x = np.reshape(x, color_array.shape)\n",
    "        mae_val = (sum(abs(x - color_array))) / (x.shape[0])\n",
    "        mae_val_rounded = round(float(mae_val),3) \n",
    "        mae_list.append(mae_val_rounded)\n",
    "    return mae_list"
   ]
  },
  {
   "cell_type": "markdown",
   "metadata": {},
   "source": [
    "# Null MAE distribution"
   ]
  },
  {
   "cell_type": "code",
   "execution_count": 3,
   "metadata": {},
   "outputs": [],
   "source": [
    "target_path = \"./datasets/2-permutation/xyz_target.xls\"\n",
    "source_path = \"./datasets/2-permutation/xyz_source.xls\"\n",
    "target_color_path = \"./datasets/2-permutation/sox2_target.xls\"\n",
    "source_color_path = \"./datasets/2-permutation/sox2_source.xls\"\n",
    "\n",
    "target_color = process_color(target_color_path, [0,1,2], [0])\n",
    "source_color = process_color(source_color_path, [0,1,2], [0])"
   ]
  },
  {
   "cell_type": "code",
   "execution_count": 4,
   "metadata": {},
   "outputs": [
    {
     "data": {
      "text/plain": [
       "(13.69739871175013, 14.33857328824987)"
      ]
     },
     "execution_count": 4,
     "metadata": {},
     "output_type": "execute_result"
    }
   ],
   "source": [
    "num_permute = 1000\n",
    "mae_null = mae_permutation(num_permute, target_color)\n",
    "loc, scale = st.norm.fit(mae_null)\n",
    "st.norm.interval(alpha=0.95, loc=loc, scale=scale) "
   ]
  },
  {
   "cell_type": "markdown",
   "metadata": {},
   "source": [
    "# MAE value of Colored ICP registration "
   ]
  },
  {
   "cell_type": "code",
   "execution_count": 5,
   "metadata": {},
   "outputs": [
    {
     "name": "stdout",
     "output_type": "stream",
     "text": [
      ":: Point Cloud was not downsampled\n",
      ":: Estimate normal with search radius 20.\n",
      ":: Compute FPFH feature with search radius 50.\n",
      "---------------------------------------\n",
      ":: Point Cloud was not downsampled\n",
      ":: Estimate normal with search radius 20.\n",
      ":: Compute FPFH feature with search radius 50.\n",
      "---------------------------------------\n"
     ]
    }
   ],
   "source": [
    "positions_paths = [source_path] + [target_path]\n",
    "color_paths = [source_color_path] + [target_color_path]\n",
    "\n",
    "pcd,fpfh,image_rgb = process_images(positions_paths, color_paths, skiprows = [0,1,2])\n",
    "\n",
    "source, target = pcd\n",
    "source_fpfh,target_fpfh = fpfh\n",
    "source_rgb, target_rgb = image_rgb"
   ]
  },
  {
   "cell_type": "code",
   "execution_count": 6,
   "metadata": {},
   "outputs": [],
   "source": [
    "result_ransac_rotate = execute_global_registration(source, target,\n",
    "                                            source_fpfh, target_fpfh)\n",
    "\n",
    "result_colored_icp = colored_icp(source, target, result_ransac_rotate.transformation, voxel_radius = 10, coloredICP_maxnn = 50, downsample = False)\n",
    "\n",
    "mae_regis = calculate_mae(source_rgb, target_rgb, result_colored_icp)"
   ]
  },
  {
   "cell_type": "code",
   "execution_count": 7,
   "metadata": {},
   "outputs": [
    {
     "data": {
      "text/plain": [
       "3.215999512589649"
      ]
     },
     "execution_count": 7,
     "metadata": {},
     "output_type": "execute_result"
    }
   ],
   "source": [
    "mae_regis"
   ]
  },
  {
   "cell_type": "markdown",
   "metadata": {},
   "source": [
    "# Plotting results"
   ]
  },
  {
   "cell_type": "code",
   "execution_count": 8,
   "metadata": {},
   "outputs": [
    {
     "data": {
      "image/png": "[encoded data removed]",
      "text/plain": [
       "<Figure size 720x648 with 1 Axes>"
      ]
     },
     "metadata": {
      "needs_background": "light"
     },
     "output_type": "display_data"
    }
   ],
   "source": [
    "kwargs = dict(alpha=0.5, bins=100)\n",
    "fig = plt.figure(figsize = (10,9))\n",
    "\n",
    "plt.hist(mae_null, **kwargs, color='b', label='Null distribution')\n",
    "plt.axvline(x=mae_regis, linewidth=3.0, linestyle = '--', color = 'r', label = \"Colored ICP MAE score\")\n",
    "\n",
    "plt.gca().set(xlabel = \"MAE\", ylabel='Counts')\n",
    "plt.xlim(2,15)\n",
    "plt.legend(loc = \"upper right\");"
   ]
  },
  {
   "cell_type": "markdown",
   "metadata": {},
   "source": [
    "# Conclusion"
   ]
  },
  {
   "cell_type": "code",
   "execution_count": null,
   "metadata": {
    "collapsed": true
   },
   "outputs": [],
   "source": []
  }
 ],
 "metadata": {
  "kernelspec": {
   "display_name": "Python 3",
   "language": "python",
   "name": "python3"
  },
  "language_info": {
   "codemirror_mode": {
    "name": "ipython",
    "version": 3
   },
   "file_extension": ".py",
   "mimetype": "text/x-python",
   "name": "python",
   "nbconvert_exporter": "python",
   "pygments_lexer": "ipython3",
   "version": "3.8.3"
  },
  "toc": {
   "base_numbering": 1,
   "nav_menu": {},
   "number_sections": true,
   "sideBar": true,
   "skip_h1_title": false,
   "title_cell": "Table of Contents",
   "title_sidebar": "Contents",
   "toc_cell": false,
   "toc_position": {},
   "toc_section_display": true,
   "toc_window_display": false
  }
 },
 "nbformat": 4,
 "nbformat_minor": 4
}
