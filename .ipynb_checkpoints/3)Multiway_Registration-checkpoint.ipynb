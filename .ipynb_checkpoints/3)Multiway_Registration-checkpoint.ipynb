{
 "cells": [
  {
   "cell_type": "code",
   "execution_count": 20,
   "id": "polar-influence",
   "metadata": {},
   "outputs": [],
   "source": [
    "import numpy as np \n",
    "import pandas as pd\n",
    "import open3d as o3d\n",
    "import copy\n",
    "import matplotlib.pyplot as plt\n",
    "import matplotlib.colors as col\n",
    "import matplotlib.lines as mlines\n",
    "import seaborn as sns\n",
    "import scipy.stats as st\n",
    "\n",
    "from data_processing import excel_to_pcd, preprocess_point_cloud, process_images, colour_map\n",
    "from align_func import execute_global_registration, icp_registration, colored_icp, calculate_mae, map_source2target, obtain_registration_metrics"
   ]
  },
  {
   "cell_type": "code",
   "execution_count": 45,
   "id": "radio-article",
   "metadata": {},
   "outputs": [],
   "source": [
    "positions_paths = [\"./datasets/4-multiway/18ss/18ss_position_1.csv\",\n",
    "                  \"./datasets/4-multiway/18ss/18ss_position_2.csv\",\n",
    "                  \"./datasets/4-multiway/18ss/18ss_position_3.csv\"]\n",
    "\n",
    "colors_paths = [\"./datasets/4-multiway/18ss/18ss_TCF_mRNA_1.csv\",\n",
    "                  \"./datasets/4-multiway/18ss/18ss_TCF_mRNA_2.csv\",\n",
    "                  \"./datasets/4-multiway/18ss/18ss_TCF_mRNA_3.csv\"]\n",
    "pcd_list = []\n",
    "fpfh_list = []\n",
    "colors_list = []"
   ]
  },
  {
   "cell_type": "markdown",
   "id": "accomplished-mandate",
   "metadata": {},
   "source": [
    "# Iterative pairwise"
   ]
  },
  {
   "cell_type": "code",
   "execution_count": 46,
   "id": "spread-european",
   "metadata": {},
   "outputs": [
    {
     "name": "stdout",
     "output_type": "stream",
     "text": [
      "./datasets/4-multiway/18ss/18ss_position_1.csv\n",
      "[[15.267 ]\n",
      " [ 6.25  ]\n",
      " [11.9857]\n",
      " ...\n",
      " [34.1819]\n",
      " [46.2394]\n",
      " [41.5133]]\n",
      ":: Point Cloud was not downsampled\n",
      ":: Estimate normal with search radius 20.\n",
      ":: Compute FPFH feature with search radius 50.\n",
      "---------------------------------------\n",
      "./datasets/4-multiway/18ss/18ss_position_2.csv\n",
      "[[ 8.11045]\n",
      " [26.0929 ]\n",
      " [ 9.7033 ]\n",
      " ...\n",
      " [ 1.95833]\n",
      " [ 2.88462]\n",
      " [ 3.03146]]\n",
      ":: Point Cloud was not downsampled\n",
      ":: Estimate normal with search radius 20.\n",
      ":: Compute FPFH feature with search radius 50.\n",
      "---------------------------------------\n",
      "./datasets/4-multiway/18ss/18ss_position_3.csv\n",
      "[[ 6.03548]\n",
      " [12.9378 ]\n",
      " [ 4.96027]\n",
      " ...\n",
      " [ 3.55466]\n",
      " [ 2.78873]\n",
      " [ 1.27798]]\n",
      ":: Point Cloud was not downsampled\n",
      ":: Estimate normal with search radius 20.\n",
      ":: Compute FPFH feature with search radius 50.\n",
      "---------------------------------------\n"
     ]
    }
   ],
   "source": [
    "for ind in range(len(positions_paths)):\n",
    "    image_path = positions_paths[ind]\n",
    "    print(image_path)\n",
    "    color_path = colors_paths[ind]\n",
    "    image_excel = [pd.read_csv(image_path, skiprows = [0,1,2], header = 0, usecols = [0,1,2])]\n",
    "    color_excel = [pd.read_csv(color_path, skiprows = [0,1,2], header = 0, usecols = [0])]\n",
    "    image_color = color_excel[0].to_numpy(dtype='float64')\n",
    "    colors_list.append(image_color)\n",
    "    print(image_color)\n",
    "    image_rgb, image_col_range = colour_map(image_color,\"viridis\")\n",
    "    image_pcd = excel_to_pcd(image_excel, [image_path], return_filenames = True)\n",
    "    image = o3d.io.read_point_cloud(image_pcd[0]) #sample.pcd is the source\n",
    "    image_processed, image_fpfh = preprocess_point_cloud(image)\n",
    "    image_processed.colors=o3d.utility.Vector3dVector(image_rgb)\n",
    "    pcd_list.append(image_processed)\n",
    "    fpfh_list.append(image_fpfh)"
   ]
  },
  {
   "cell_type": "code",
   "execution_count": 47,
   "id": "composed-acceptance",
   "metadata": {},
   "outputs": [
    {
     "data": {
      "text/plain": [
       "(1784, 1)"
      ]
     },
     "execution_count": 47,
     "metadata": {},
     "output_type": "execute_result"
    }
   ],
   "source": [
    "colors_list[0].shape"
   ]
  },
  {
   "cell_type": "code",
   "execution_count": 48,
   "id": "neither-rogers",
   "metadata": {},
   "outputs": [
    {
     "name": "stdout",
     "output_type": "stream",
     "text": [
      "Using median averaging\n",
      "--- Registration results --- \n",
      "Fitness: 97.16%\n",
      "Inlier RMSE: 4.570542416790272\n",
      "MAE: 14.20\n",
      "---------------------------------------\n",
      "--- Correspondence map properties --- \n",
      "707 (39.630%) unmapped targets.\n",
      "411 (23.038%) targets that are mapped by multiple source points.\n",
      "666 (37.332%) targets that are uniquely mapped by a single source point.\n",
      "All 1784 target points are accounted for.\n",
      "Using median averaging\n",
      "--- Registration results --- \n",
      "Fitness: 99.21%\n",
      "Inlier RMSE: 4.2741938181280705\n",
      "MAE: 14.55\n",
      "---------------------------------------\n",
      "--- Correspondence map properties --- \n",
      "673 (37.724%) unmapped targets.\n",
      "386 (21.637%) targets that are mapped by multiple source points.\n",
      "725 (40.639%) targets that are uniquely mapped by a single source point.\n",
      "All 1784 target points are accounted for.\n"
     ]
    }
   ],
   "source": [
    "#target_new_list = [pcd_list[0]]\n",
    "color_new_list = [colors_list[0]]\n",
    "corr_list = []\n",
    "\n",
    "for i in range(len(positions_paths)-1):\n",
    "    result_ransac_rotate = execute_global_registration(pcd_list[i+1], pcd_list[0],\n",
    "                                            fpfh_list[i+1], fpfh_list[0], mutual_filter = True)\n",
    "    result_colored_icp = colored_icp(pcd_list[i+1], pcd_list[0], result_ransac_rotate.transformation, voxel_radius = 10, coloredICP_maxnn = 50, downsample = False)\n",
    "    #target_new, mapped_col_range, color_list = map_source2target(pcd_list[i+1], pcd_list[0], colors_list[i+1], colors_list[0], result_colored_icp)\n",
    "    #target_new_list.append(target_new)\n",
    "    #color_new_list.append(color_list)\n",
    "    corr_list.append(np.array(result_colored_icp.correspondence_set))\n",
    "    obtain_registration_metrics(pcd_list[0], colors_list[i+1], colors_list[0], result_colored_icp )\n",
    "    "
   ]
  },
  {
   "cell_type": "code",
   "execution_count": 50,
   "id": "consolidated-mainstream",
   "metadata": {},
   "outputs": [
    {
     "data": {
      "text/plain": [
       "array([[3.97256],\n",
       "       [6.25   ],\n",
       "       [0.     ],\n",
       "       ...,\n",
       "       [0.     ],\n",
       "       [5.4982 ],\n",
       "       [5.21311]])"
      ]
     },
     "execution_count": 50,
     "metadata": {},
     "output_type": "execute_result"
    }
   ],
   "source": [
    "color_new_list = np.asarray(color_new_list)\n",
    "color_median = np.median(color_new_list, axis = 0)\n",
    "color_median"
   ]
  },
  {
   "cell_type": "code",
   "execution_count": 52,
   "id": "innovative-ottawa",
   "metadata": {},
   "outputs": [],
   "source": [
    "image_rgb_final, _ = colour_map(color_median,\"viridis\")\n",
    "target_final = target_new_list[0]\n",
    "target_final.colors=o3d.utility.Vector3dVector(image_rgb_final)"
   ]
  },
  {
   "cell_type": "code",
   "execution_count": 54,
   "id": "characteristic-tunisia",
   "metadata": {},
   "outputs": [
    {
     "data": {
      "text/plain": [
       "PointCloud with 1784 points."
      ]
     },
     "execution_count": 54,
     "metadata": {},
     "output_type": "execute_result"
    }
   ],
   "source": [
    "target_final"
   ]
  },
  {
   "cell_type": "code",
   "execution_count": null,
   "id": "conventional-conditions",
   "metadata": {},
   "outputs": [],
   "source": [
    "o3d.visualization.draw_geometries([target_final],\n",
    "                                  zoom=1,\n",
    "                                  front=[0.4257, -0.2125, -0.8795],\n",
    "                                  lookat=[2.6172, 2.0475, 1.532],\n",
    "                                  up=[-0.0694, -0.9768, 0.2024])"
   ]
  },
  {
   "cell_type": "code",
   "execution_count": 65,
   "id": "adequate-freeware",
   "metadata": {},
   "outputs": [
    {
     "name": "stdout",
     "output_type": "stream",
     "text": [
      "[Open3D WARNING] GLFW Error: WGL: Failed to make context current: The requested transformation operation is not supported. \n"
     ]
    }
   ],
   "source": [
    "o3d.visualization.draw_geometries([pcd_list[0]],\n",
    "                                  zoom=1,\n",
    "                                  front=[0.4257, -0.2125, -0.8795],\n",
    "                                  lookat=[2.6172, 2.0475, 1.532],\n",
    "                                  up=[-0.0694, -0.9768, 0.2024])"
   ]
  },
  {
   "cell_type": "code",
   "execution_count": 66,
   "id": "historical-fetish",
   "metadata": {},
   "outputs": [
    {
     "name": "stdout",
     "output_type": "stream",
     "text": [
      "[Open3D WARNING] GLFW Error: WGL: Failed to make context current: The handle is invalid. \n"
     ]
    }
   ],
   "source": [
    "o3d.visualization.draw_geometries([pcd_list[1]],\n",
    "                                  zoom=1,\n",
    "                                  front=[0.4257, -0.2125, -0.8795],\n",
    "                                  lookat=[2.6172, 2.0475, 1.532],\n",
    "                                  up=[-0.0694, -0.9768, 0.2024])"
   ]
  },
  {
   "cell_type": "code",
   "execution_count": 67,
   "id": "sapphire-serve",
   "metadata": {},
   "outputs": [],
   "source": [
    "o3d.visualization.draw_geometries([pcd_list[2]],\n",
    "                                  zoom=1,\n",
    "                                  front=[0.4257, -0.2125, -0.8795],\n",
    "                                  lookat=[2.6172, 2.0475, 1.532],\n",
    "                                  up=[-0.0694, -0.9768, 0.2024])"
   ]
  },
  {
   "cell_type": "markdown",
   "id": "following-angel",
   "metadata": {},
   "source": [
    "# Multiway"
   ]
  },
  {
   "cell_type": "code",
   "execution_count": 3,
   "id": "arranged-wagner",
   "metadata": {},
   "outputs": [
    {
     "name": "stdout",
     "output_type": "stream",
     "text": [
      "./datasets/4-multiway/18ss/18ss_position_1.csv\n",
      ":: Point Cloud was not downsampled\n",
      ":: Estimate normal with search radius 20.\n",
      ":: Compute FPFH feature with search radius 50.\n",
      "---------------------------------------\n",
      "./datasets/4-multiway/18ss/18ss_position_2.csv\n",
      ":: Point Cloud was not downsampled\n",
      ":: Estimate normal with search radius 20.\n",
      ":: Compute FPFH feature with search radius 50.\n",
      "---------------------------------------\n",
      "./datasets/4-multiway/18ss/18ss_position_3.csv\n",
      ":: Point Cloud was not downsampled\n",
      ":: Estimate normal with search radius 20.\n",
      ":: Compute FPFH feature with search radius 50.\n",
      "---------------------------------------\n"
     ]
    }
   ],
   "source": [
    "for ind in range(len(positions_paths)):\n",
    "    image_path = positions_paths[ind]\n",
    "    print(image_path)\n",
    "    color_path = colors_paths[ind]\n",
    "    image_excel = [pd.read_csv(image_path, skiprows = [0,1,2], header = 0, usecols = [0,1,2])]\n",
    "    color_excel = [pd.read_csv(color_path, skiprows = [0,1,2], header = 0, usecols = [0])]\n",
    "    image_color = color_excel[0].to_numpy(dtype='float64')\n",
    "    image_rgb, image_col_range = colour_map(image_color,\"viridis\")\n",
    "    image_pcd = excel_to_pcd(image_excel, [image_path], return_filenames = True)\n",
    "    image = o3d.io.read_point_cloud(image_pcd[0]) #sample.pcd is the source\n",
    "    image_processed, image_fpfh = preprocess_point_cloud(image)\n",
    "    image_processed.colors=o3d.utility.Vector3dVector(image_rgb)\n",
    "    pcd_list.append(image_processed)\n",
    "    fpfh_list.append(image_fpfh)"
   ]
  },
  {
   "cell_type": "code",
   "execution_count": 13,
   "id": "mediterranean-murray",
   "metadata": {},
   "outputs": [
    {
     "data": {
      "text/plain": [
       "array([[0.258965, 0.251537, 0.524736],\n",
       "       [0.281446, 0.08432 , 0.407414],\n",
       "       [0.275191, 0.194905, 0.496005],\n",
       "       ...,\n",
       "       [0.139147, 0.533812, 0.555298],\n",
       "       [0.180653, 0.701402, 0.488189],\n",
       "       [0.123444, 0.636809, 0.528763]])"
      ]
     },
     "execution_count": 13,
     "metadata": {},
     "output_type": "execute_result"
    }
   ],
   "source": [
    "np.asarray(pcd_list[0].colors)"
   ]
  },
  {
   "cell_type": "markdown",
   "id": "adjacent-immunology",
   "metadata": {},
   "source": [
    "o3d.visualization.draw_geometries(pcd_list,\n",
    "                                  zoom=1,\n",
    "                                  front=[0.4257, -0.2125, -0.8795],\n",
    "                                  lookat=[2.6172, 2.0475, 1.532],\n",
    "                                  up=[-0.0694, -0.9768, 0.2024])"
   ]
  },
  {
   "cell_type": "code",
   "execution_count": 4,
   "id": "cosmetic-kitty",
   "metadata": {},
   "outputs": [],
   "source": [
    "voxel_size = 10\n",
    "\n",
    "def pairwise_registration(source, target, source_fpfh, target_fpfh):\n",
    "    print(\"Apply point-to-plane ICP\")\n",
    "    ransac = execute_global_registration(source, target, source_fpfh, target_fpfh)\n",
    "    icp_fine = colored_icp(\n",
    "        source, target, ransac.transformation,\n",
    "        voxel_radius = 10, coloredICP_maxnn = 50, downsample = False)\n",
    "    transformation_icp = icp_fine.transformation\n",
    "    information_icp = o3d.pipelines.registration.get_information_matrix_from_point_clouds(\n",
    "        source, target, max_correspondence_distance_fine,\n",
    "        icp_fine.transformation)\n",
    "    return transformation_icp, information_icp\n",
    "\n",
    "\n",
    "def full_registration(pcds, max_correspondence_distance_coarse,\n",
    "                      max_correspondence_distance_fine):\n",
    "    pose_graph = o3d.pipelines.registration.PoseGraph()\n",
    "    odometry = np.identity(4)\n",
    "    pose_graph.nodes.append(o3d.pipelines.registration.PoseGraphNode(odometry))\n",
    "    n_pcds = len(pcds)\n",
    "    for source_id in range(n_pcds):\n",
    "        for target_id in range(source_id + 1, n_pcds):\n",
    "            transformation_icp, information_icp = pairwise_registration(\n",
    "                pcds[source_id], pcds[target_id], fpfh_list[source_id], fpfh_list[target_id])\n",
    "            print(\"Build o3d.pipelines.registration.PoseGraph\")\n",
    "            if target_id == source_id + 1:  # odometry case\n",
    "                odometry = np.dot(transformation_icp, odometry)\n",
    "                pose_graph.nodes.append(\n",
    "                    o3d.pipelines.registration.PoseGraphNode(\n",
    "                        np.linalg.inv(odometry)))\n",
    "                pose_graph.edges.append(\n",
    "                    o3d.pipelines.registration.PoseGraphEdge(source_id,\n",
    "                                                             target_id,\n",
    "                                                             transformation_icp,\n",
    "                                                             information_icp,\n",
    "                                                             uncertain=False))\n",
    "            else:  # loop closure case\n",
    "                pose_graph.edges.append(\n",
    "                    o3d.pipelines.registration.PoseGraphEdge(source_id,\n",
    "                                                             target_id,\n",
    "                                                             transformation_icp,\n",
    "                                                             information_icp,\n",
    "                                                             uncertain=False))\n",
    "    return pose_graph"
   ]
  },
  {
   "cell_type": "code",
   "execution_count": 5,
   "id": "ready-marker",
   "metadata": {},
   "outputs": [
    {
     "name": "stdout",
     "output_type": "stream",
     "text": [
      "Full registration ...\n",
      "Apply point-to-plane ICP\n",
      "[Open3D DEBUG] 416 correspondences remain after mutual filter\n",
      "[Open3D DEBUG] RANSAC exits at 4000000-th iteration: inlier ratio 1.105769e-01, RMSE 1.072697e+01\n",
      "[Open3D DEBUG] InitializePointCloudForColoredICP\n",
      "[Open3D DEBUG] ICP Iteration #0: Fitness 0.9204, RMSE 4.6404\n",
      "[Open3D DEBUG] Residual : 7.93e+00 (# of elements : 1642)\n",
      "[Open3D DEBUG] ICP Iteration #1: Fitness 0.9221, RMSE 4.6191\n",
      "[Open3D DEBUG] Residual : 7.84e+00 (# of elements : 1645)\n",
      "[Open3D DEBUG] ICP Iteration #2: Fitness 0.9232, RMSE 4.5963\n",
      "[Open3D DEBUG] Residual : 7.89e+00 (# of elements : 1647)\n",
      "[Open3D DEBUG] ICP Iteration #3: Fitness 0.9249, RMSE 4.5842\n",
      "[Open3D DEBUG] Residual : 8.00e+00 (# of elements : 1650)\n",
      "[Open3D DEBUG] ICP Iteration #4: Fitness 0.9266, RMSE 4.5762\n",
      "[Open3D DEBUG] Residual : 8.02e+00 (# of elements : 1653)\n",
      "[Open3D DEBUG] ICP Iteration #5: Fitness 0.9266, RMSE 4.5589\n",
      "[Open3D DEBUG] Residual : 7.91e+00 (# of elements : 1653)\n",
      "[Open3D DEBUG] ICP Iteration #6: Fitness 0.9254, RMSE 4.5329\n",
      "[Open3D DEBUG] Residual : 7.68e+00 (# of elements : 1651)\n",
      "[Open3D DEBUG] ICP Iteration #7: Fitness 0.9277, RMSE 4.5365\n",
      "[Open3D DEBUG] Residual : 7.60e+00 (# of elements : 1655)\n",
      "[Open3D DEBUG] ICP Iteration #8: Fitness 0.9294, RMSE 4.5383\n",
      "[Open3D DEBUG] Residual : 7.57e+00 (# of elements : 1658)\n",
      "[Open3D DEBUG] ICP Iteration #9: Fitness 0.9333, RMSE 4.5612\n",
      "[Open3D DEBUG] Residual : 7.73e+00 (# of elements : 1665)\n",
      "[Open3D DEBUG] ICP Iteration #10: Fitness 0.9333, RMSE 4.5500\n",
      "[Open3D DEBUG] Residual : 7.58e+00 (# of elements : 1665)\n",
      "[Open3D DEBUG] ICP Iteration #11: Fitness 0.9333, RMSE 4.5376\n",
      "[Open3D DEBUG] Residual : 7.79e+00 (# of elements : 1665)\n",
      "[Open3D DEBUG] ICP Iteration #12: Fitness 0.9333, RMSE 4.5247\n",
      "[Open3D DEBUG] Residual : 7.80e+00 (# of elements : 1665)\n",
      "[Open3D DEBUG] ICP Iteration #13: Fitness 0.9333, RMSE 4.5128\n",
      "[Open3D DEBUG] Residual : 7.74e+00 (# of elements : 1665)\n",
      "[Open3D DEBUG] ICP Iteration #14: Fitness 0.9344, RMSE 4.5094\n",
      "[Open3D DEBUG] Residual : 7.81e+00 (# of elements : 1667)\n",
      "[Open3D DEBUG] ICP Iteration #15: Fitness 0.9378, RMSE 4.5288\n",
      "[Open3D DEBUG] Residual : 7.95e+00 (# of elements : 1673)\n",
      "[Open3D DEBUG] ICP Iteration #16: Fitness 0.9378, RMSE 4.5146\n",
      "[Open3D DEBUG] Residual : 7.91e+00 (# of elements : 1673)\n",
      "[Open3D DEBUG] ICP Iteration #17: Fitness 0.9389, RMSE 4.5153\n",
      "[Open3D DEBUG] Residual : 7.98e+00 (# of elements : 1675)\n",
      "[Open3D DEBUG] ICP Iteration #18: Fitness 0.9383, RMSE 4.5001\n",
      "[Open3D DEBUG] Residual : 7.89e+00 (# of elements : 1674)\n",
      "[Open3D DEBUG] ICP Iteration #19: Fitness 0.9395, RMSE 4.5020\n",
      "[Open3D DEBUG] Residual : 7.88e+00 (# of elements : 1676)\n",
      "[Open3D DEBUG] ICP Iteration #20: Fitness 0.9372, RMSE 4.4707\n",
      "[Open3D DEBUG] Residual : 7.64e+00 (# of elements : 1672)\n",
      "[Open3D DEBUG] ICP Iteration #21: Fitness 0.9389, RMSE 4.4809\n",
      "[Open3D DEBUG] Residual : 7.74e+00 (# of elements : 1675)\n",
      "[Open3D DEBUG] ICP Iteration #22: Fitness 0.9383, RMSE 4.4726\n",
      "[Open3D DEBUG] Residual : 7.68e+00 (# of elements : 1674)\n",
      "[Open3D DEBUG] ICP Iteration #23: Fitness 0.9389, RMSE 4.4772\n",
      "[Open3D DEBUG] Residual : 7.78e+00 (# of elements : 1675)\n",
      "[Open3D DEBUG] ICP Iteration #24: Fitness 0.9411, RMSE 4.4967\n",
      "[Open3D DEBUG] Residual : 7.96e+00 (# of elements : 1679)\n",
      "[Open3D DEBUG] ICP Iteration #25: Fitness 0.9406, RMSE 4.4887\n",
      "[Open3D DEBUG] Residual : 7.95e+00 (# of elements : 1678)\n",
      "[Open3D DEBUG] ICP Iteration #26: Fitness 0.9389, RMSE 4.4678\n",
      "[Open3D DEBUG] Residual : 7.83e+00 (# of elements : 1675)\n",
      "[Open3D DEBUG] ICP Iteration #27: Fitness 0.9395, RMSE 4.4676\n",
      "[Open3D DEBUG] Residual : 7.87e+00 (# of elements : 1676)\n",
      "[Open3D DEBUG] ICP Iteration #28: Fitness 0.9406, RMSE 4.4746\n",
      "[Open3D DEBUG] Residual : 7.99e+00 (# of elements : 1678)\n",
      "[Open3D DEBUG] ICP Iteration #29: Fitness 0.9417, RMSE 4.4830\n",
      "[Open3D DEBUG] Residual : 8.11e+00 (# of elements : 1680)\n",
      "[Open3D DEBUG] ICP Iteration #30: Fitness 0.9411, RMSE 4.4717\n",
      "[Open3D DEBUG] Residual : 8.10e+00 (# of elements : 1679)\n",
      "[Open3D DEBUG] ICP Iteration #31: Fitness 0.9406, RMSE 4.4598\n",
      "[Open3D DEBUG] Residual : 7.94e+00 (# of elements : 1678)\n",
      "[Open3D DEBUG] ICP Iteration #32: Fitness 0.9400, RMSE 4.4471\n",
      "[Open3D DEBUG] Residual : 7.74e+00 (# of elements : 1677)\n",
      "[Open3D DEBUG] ICP Iteration #33: Fitness 0.9406, RMSE 4.4449\n",
      "[Open3D DEBUG] Residual : 7.78e+00 (# of elements : 1678)\n",
      "[Open3D DEBUG] ICP Iteration #34: Fitness 0.9406, RMSE 4.4392\n",
      "[Open3D DEBUG] Residual : 7.74e+00 (# of elements : 1678)\n",
      "[Open3D DEBUG] ICP Iteration #35: Fitness 0.9417, RMSE 4.4438\n",
      "[Open3D DEBUG] Residual : 7.76e+00 (# of elements : 1680)\n",
      "[Open3D DEBUG] ICP Iteration #36: Fitness 0.9417, RMSE 4.4409\n",
      "[Open3D DEBUG] Residual : 7.68e+00 (# of elements : 1680)\n",
      "[Open3D DEBUG] ICP Iteration #37: Fitness 0.9411, RMSE 4.4332\n",
      "[Open3D DEBUG] Residual : 7.73e+00 (# of elements : 1679)\n",
      "[Open3D DEBUG] ICP Iteration #38: Fitness 0.9389, RMSE 4.4084\n",
      "[Open3D DEBUG] Residual : 7.67e+00 (# of elements : 1675)\n",
      "[Open3D DEBUG] ICP Iteration #39: Fitness 0.9383, RMSE 4.4017\n",
      "[Open3D DEBUG] Residual : 7.61e+00 (# of elements : 1674)\n",
      "[Open3D DEBUG] ICP Iteration #40: Fitness 0.9383, RMSE 4.4016\n",
      "[Open3D DEBUG] Residual : 7.55e+00 (# of elements : 1674)\n",
      "[Open3D DEBUG] ICP Iteration #41: Fitness 0.9383, RMSE 4.4022\n",
      "[Open3D DEBUG] Residual : 7.49e+00 (# of elements : 1674)\n",
      "[Open3D DEBUG] ICP Iteration #42: Fitness 0.9383, RMSE 4.4023\n",
      "[Open3D DEBUG] Residual : 7.50e+00 (# of elements : 1674)\n",
      "[Open3D DEBUG] ICP Iteration #43: Fitness 0.9383, RMSE 4.4024\n",
      "[Open3D DEBUG] Residual : 7.53e+00 (# of elements : 1674)\n",
      "[Open3D DEBUG] ICP Iteration #44: Fitness 0.9383, RMSE 4.4028\n",
      "[Open3D DEBUG] Residual : 7.48e+00 (# of elements : 1674)\n",
      "[Open3D DEBUG] ICP Iteration #45: Fitness 0.9383, RMSE 4.4033\n",
      "[Open3D DEBUG] Residual : 7.51e+00 (# of elements : 1674)\n",
      "[Open3D DEBUG] ICP Iteration #46: Fitness 0.9383, RMSE 4.4036\n",
      "[Open3D DEBUG] Residual : 7.52e+00 (# of elements : 1674)\n",
      "[Open3D DEBUG] ICP Iteration #47: Fitness 0.9378, RMSE 4.3979\n",
      "[Open3D DEBUG] Residual : 7.47e+00 (# of elements : 1673)\n",
      "[Open3D DEBUG] ICP Iteration #48: Fitness 0.9378, RMSE 4.3976\n",
      "[Open3D DEBUG] Residual : 7.46e+00 (# of elements : 1673)\n",
      "[Open3D DEBUG] ICP Iteration #49: Fitness 0.9378, RMSE 4.3974\n",
      "[Open3D DEBUG] Residual : 7.46e+00 (# of elements : 1673)\n",
      "[Open3D DEBUG] ICP Iteration #50: Fitness 0.9378, RMSE 4.3974\n",
      "[Open3D DEBUG] Residual : 7.47e+00 (# of elements : 1673)\n",
      "[Open3D DEBUG] ICP Iteration #51: Fitness 0.9378, RMSE 4.3967\n",
      "[Open3D DEBUG] Residual : 7.46e+00 (# of elements : 1673)\n",
      "[Open3D DEBUG] ICP Iteration #52: Fitness 0.9378, RMSE 4.3967\n",
      "[Open3D DEBUG] Residual : 7.46e+00 (# of elements : 1673)\n",
      "[Open3D DEBUG] ICP Iteration #53: Fitness 0.9378, RMSE 4.3965\n",
      "[Open3D DEBUG] Residual : 7.48e+00 (# of elements : 1673)\n",
      "[Open3D DEBUG] ICP Iteration #54: Fitness 0.9378, RMSE 4.3962\n",
      "[Open3D DEBUG] Residual : 7.48e+00 (# of elements : 1673)\n",
      "[Open3D DEBUG] ICP Iteration #55: Fitness 0.9378, RMSE 4.3958\n",
      "[Open3D DEBUG] Residual : 7.47e+00 (# of elements : 1673)\n",
      "[Open3D DEBUG] ICP Iteration #56: Fitness 0.9383, RMSE 4.4011\n",
      "[Open3D DEBUG] Residual : 7.51e+00 (# of elements : 1674)\n",
      "[Open3D DEBUG] ICP Iteration #57: Fitness 0.9383, RMSE 4.4012\n",
      "[Open3D DEBUG] Residual : 7.50e+00 (# of elements : 1674)\n",
      "[Open3D DEBUG] ICP Iteration #58: Fitness 0.9383, RMSE 4.4015\n",
      "[Open3D DEBUG] Residual : 7.47e+00 (# of elements : 1674)\n",
      "[Open3D DEBUG] ICP Iteration #59: Fitness 0.9383, RMSE 4.4016\n",
      "[Open3D DEBUG] Residual : 7.47e+00 (# of elements : 1674)\n",
      "Build o3d.pipelines.registration.PoseGraph\n",
      "Apply point-to-plane ICP\n",
      "[Open3D DEBUG] 397 correspondences remain after mutual filter\n",
      "[Open3D DEBUG] RANSAC exits at 4000000-th iteration: inlier ratio 9.823678e-02, RMSE 1.097788e+01\n",
      "[Open3D DEBUG] InitializePointCloudForColoredICP\n",
      "[Open3D DEBUG] ICP Iteration #0: Fitness 0.9742, RMSE 4.5438\n",
      "[Open3D DEBUG] Residual : 7.70e+00 (# of elements : 1738)\n",
      "[Open3D DEBUG] ICP Iteration #1: Fitness 0.9737, RMSE 4.5103\n",
      "[Open3D DEBUG] Residual : 7.66e+00 (# of elements : 1737)\n",
      "[Open3D DEBUG] ICP Iteration #2: Fitness 0.9742, RMSE 4.4946\n",
      "[Open3D DEBUG] Residual : 7.73e+00 (# of elements : 1738)\n",
      "[Open3D DEBUG] ICP Iteration #3: Fitness 0.9748, RMSE 4.4767\n",
      "[Open3D DEBUG] Residual : 7.63e+00 (# of elements : 1739)\n",
      "[Open3D DEBUG] ICP Iteration #4: Fitness 0.9753, RMSE 4.4621\n",
      "[Open3D DEBUG] Residual : 7.63e+00 (# of elements : 1740)\n",
      "[Open3D DEBUG] ICP Iteration #5: Fitness 0.9753, RMSE 4.4526\n",
      "[Open3D DEBUG] Residual : 7.49e+00 (# of elements : 1740)\n",
      "[Open3D DEBUG] ICP Iteration #6: Fitness 0.9742, RMSE 4.4369\n",
      "[Open3D DEBUG] Residual : 7.53e+00 (# of elements : 1738)\n",
      "[Open3D DEBUG] ICP Iteration #7: Fitness 0.9725, RMSE 4.4185\n",
      "[Open3D DEBUG] Residual : 7.32e+00 (# of elements : 1735)\n",
      "[Open3D DEBUG] ICP Iteration #8: Fitness 0.9720, RMSE 4.4097\n",
      "[Open3D DEBUG] Residual : 7.41e+00 (# of elements : 1734)\n",
      "[Open3D DEBUG] ICP Iteration #9: Fitness 0.9720, RMSE 4.4078\n",
      "[Open3D DEBUG] Residual : 7.24e+00 (# of elements : 1734)\n",
      "[Open3D DEBUG] ICP Iteration #10: Fitness 0.9720, RMSE 4.4076\n",
      "[Open3D DEBUG] Residual : 7.23e+00 (# of elements : 1734)\n",
      "[Open3D DEBUG] ICP Iteration #11: Fitness 0.9714, RMSE 4.4045\n",
      "[Open3D DEBUG] Residual : 7.16e+00 (# of elements : 1733)\n",
      "[Open3D DEBUG] ICP Iteration #12: Fitness 0.9720, RMSE 4.4110\n",
      "[Open3D DEBUG] Residual : 7.29e+00 (# of elements : 1734)\n",
      "[Open3D DEBUG] ICP Iteration #13: Fitness 0.9720, RMSE 4.4120\n",
      "[Open3D DEBUG] Residual : 7.23e+00 (# of elements : 1734)\n",
      "[Open3D DEBUG] ICP Iteration #14: Fitness 0.9720, RMSE 4.4135\n",
      "[Open3D DEBUG] Residual : 7.19e+00 (# of elements : 1734)\n",
      "[Open3D DEBUG] ICP Iteration #15: Fitness 0.9725, RMSE 4.4209\n",
      "[Open3D DEBUG] Residual : 7.17e+00 (# of elements : 1735)\n",
      "[Open3D DEBUG] ICP Iteration #16: Fitness 0.9737, RMSE 4.4342\n",
      "[Open3D DEBUG] Residual : 7.18e+00 (# of elements : 1737)\n",
      "[Open3D DEBUG] ICP Iteration #17: Fitness 0.9731, RMSE 4.4285\n",
      "[Open3D DEBUG] Residual : 7.16e+00 (# of elements : 1736)\n",
      "[Open3D DEBUG] ICP Iteration #18: Fitness 0.9731, RMSE 4.4295\n",
      "[Open3D DEBUG] Residual : 7.18e+00 (# of elements : 1736)\n",
      "[Open3D DEBUG] ICP Iteration #19: Fitness 0.9731, RMSE 4.4308\n",
      "[Open3D DEBUG] Residual : 7.19e+00 (# of elements : 1736)\n",
      "[Open3D DEBUG] ICP Iteration #20: Fitness 0.9731, RMSE 4.4312\n",
      "[Open3D DEBUG] Residual : 7.13e+00 (# of elements : 1736)\n",
      "[Open3D DEBUG] ICP Iteration #21: Fitness 0.9731, RMSE 4.4310\n",
      "[Open3D DEBUG] Residual : 7.15e+00 (# of elements : 1736)\n",
      "[Open3D DEBUG] ICP Iteration #22: Fitness 0.9731, RMSE 4.4307\n",
      "[Open3D DEBUG] Residual : 7.15e+00 (# of elements : 1736)\n",
      "[Open3D DEBUG] ICP Iteration #23: Fitness 0.9731, RMSE 4.4302\n",
      "[Open3D DEBUG] Residual : 7.16e+00 (# of elements : 1736)\n",
      "[Open3D DEBUG] ICP Iteration #24: Fitness 0.9742, RMSE 4.4407\n",
      "[Open3D DEBUG] Residual : 7.20e+00 (# of elements : 1738)\n",
      "[Open3D DEBUG] ICP Iteration #25: Fitness 0.9748, RMSE 4.4450\n",
      "[Open3D DEBUG] Residual : 7.22e+00 (# of elements : 1739)\n",
      "[Open3D DEBUG] ICP Iteration #26: Fitness 0.9748, RMSE 4.4440\n",
      "[Open3D DEBUG] Residual : 7.27e+00 (# of elements : 1739)\n",
      "[Open3D DEBUG] ICP Iteration #27: Fitness 0.9748, RMSE 4.4434\n",
      "[Open3D DEBUG] Residual : 7.29e+00 (# of elements : 1739)\n",
      "[Open3D DEBUG] ICP Iteration #28: Fitness 0.9753, RMSE 4.4483\n",
      "[Open3D DEBUG] Residual : 7.33e+00 (# of elements : 1740)\n",
      "[Open3D DEBUG] ICP Iteration #29: Fitness 0.9759, RMSE 4.4522\n",
      "[Open3D DEBUG] Residual : 7.38e+00 (# of elements : 1741)\n",
      "[Open3D DEBUG] ICP Iteration #30: Fitness 0.9759, RMSE 4.4516\n",
      "[Open3D DEBUG] Residual : 7.38e+00 (# of elements : 1741)\n",
      "[Open3D DEBUG] ICP Iteration #31: Fitness 0.9759, RMSE 4.4508\n",
      "[Open3D DEBUG] Residual : 7.35e+00 (# of elements : 1741)\n",
      "[Open3D DEBUG] ICP Iteration #32: Fitness 0.9753, RMSE 4.4452\n",
      "[Open3D DEBUG] Residual : 7.36e+00 (# of elements : 1740)\n",
      "[Open3D DEBUG] ICP Iteration #33: Fitness 0.9748, RMSE 4.4396\n",
      "[Open3D DEBUG] Residual : 7.27e+00 (# of elements : 1739)\n",
      "[Open3D DEBUG] ICP Iteration #34: Fitness 0.9748, RMSE 4.4389\n",
      "[Open3D DEBUG] Residual : 7.28e+00 (# of elements : 1739)\n",
      "[Open3D DEBUG] ICP Iteration #35: Fitness 0.9753, RMSE 4.4438\n",
      "[Open3D DEBUG] Residual : 7.33e+00 (# of elements : 1740)\n",
      "[Open3D DEBUG] ICP Iteration #36: Fitness 0.9748, RMSE 4.4386\n",
      "[Open3D DEBUG] Residual : 7.27e+00 (# of elements : 1739)\n",
      "[Open3D DEBUG] ICP Iteration #37: Fitness 0.9748, RMSE 4.4389\n",
      "[Open3D DEBUG] Residual : 7.31e+00 (# of elements : 1739)\n",
      "[Open3D DEBUG] ICP Iteration #38: Fitness 0.9748, RMSE 4.4391\n",
      "[Open3D DEBUG] Residual : 7.30e+00 (# of elements : 1739)\n",
      "[Open3D DEBUG] ICP Iteration #39: Fitness 0.9748, RMSE 4.4392\n",
      "[Open3D DEBUG] Residual : 7.30e+00 (# of elements : 1739)\n",
      "[Open3D DEBUG] ICP Iteration #40: Fitness 0.9748, RMSE 4.4396\n",
      "[Open3D DEBUG] Residual : 7.32e+00 (# of elements : 1739)\n",
      "[Open3D DEBUG] ICP Iteration #41: Fitness 0.9748, RMSE 4.4396\n",
      "[Open3D DEBUG] Residual : 7.29e+00 (# of elements : 1739)\n",
      "[Open3D DEBUG] ICP Iteration #42: Fitness 0.9748, RMSE 4.4397\n",
      "[Open3D DEBUG] Residual : 7.26e+00 (# of elements : 1739)\n",
      "[Open3D DEBUG] ICP Iteration #43: Fitness 0.9748, RMSE 4.4397\n",
      "[Open3D DEBUG] Residual : 7.25e+00 (# of elements : 1739)\n",
      "[Open3D DEBUG] ICP Iteration #44: Fitness 0.9748, RMSE 4.4397\n",
      "[Open3D DEBUG] Residual : 7.25e+00 (# of elements : 1739)\n",
      "[Open3D DEBUG] ICP Iteration #45: Fitness 0.9748, RMSE 4.4397\n",
      "[Open3D DEBUG] Residual : 7.25e+00 (# of elements : 1739)\n",
      "Build o3d.pipelines.registration.PoseGraph\n",
      "Apply point-to-plane ICP\n",
      "[Open3D DEBUG] 409 correspondences remain after mutual filter\n"
     ]
    },
    {
     "name": "stdout",
     "output_type": "stream",
     "text": [
      "[Open3D DEBUG] RANSAC exits at 4000000-th iteration: inlier ratio 1.418093e-01, RMSE 1.119163e+01\n",
      "[Open3D DEBUG] InitializePointCloudForColoredICP\n",
      "[Open3D DEBUG] ICP Iteration #0: Fitness 0.9544, RMSE 4.5282\n",
      "[Open3D DEBUG] Residual : 7.94e+00 (# of elements : 1612)\n",
      "[Open3D DEBUG] ICP Iteration #1: Fitness 0.9591, RMSE 4.4966\n",
      "[Open3D DEBUG] Residual : 7.77e+00 (# of elements : 1620)\n",
      "[Open3D DEBUG] ICP Iteration #2: Fitness 0.9621, RMSE 4.4527\n",
      "[Open3D DEBUG] Residual : 7.66e+00 (# of elements : 1625)\n",
      "[Open3D DEBUG] ICP Iteration #3: Fitness 0.9651, RMSE 4.4291\n",
      "[Open3D DEBUG] Residual : 7.45e+00 (# of elements : 1630)\n",
      "[Open3D DEBUG] ICP Iteration #4: Fitness 0.9674, RMSE 4.4219\n",
      "[Open3D DEBUG] Residual : 7.55e+00 (# of elements : 1634)\n",
      "[Open3D DEBUG] ICP Iteration #5: Fitness 0.9680, RMSE 4.4179\n",
      "[Open3D DEBUG] Residual : 7.43e+00 (# of elements : 1635)\n",
      "[Open3D DEBUG] ICP Iteration #6: Fitness 0.9692, RMSE 4.4253\n",
      "[Open3D DEBUG] Residual : 7.49e+00 (# of elements : 1637)\n",
      "[Open3D DEBUG] ICP Iteration #7: Fitness 0.9698, RMSE 4.4269\n",
      "[Open3D DEBUG] Residual : 7.53e+00 (# of elements : 1638)\n",
      "[Open3D DEBUG] ICP Iteration #8: Fitness 0.9704, RMSE 4.4301\n",
      "[Open3D DEBUG] Residual : 7.58e+00 (# of elements : 1639)\n",
      "[Open3D DEBUG] ICP Iteration #9: Fitness 0.9704, RMSE 4.4255\n",
      "[Open3D DEBUG] Residual : 7.50e+00 (# of elements : 1639)\n",
      "[Open3D DEBUG] ICP Iteration #10: Fitness 0.9739, RMSE 4.4498\n",
      "[Open3D DEBUG] Residual : 7.58e+00 (# of elements : 1645)\n",
      "[Open3D DEBUG] ICP Iteration #11: Fitness 0.9734, RMSE 4.4377\n",
      "[Open3D DEBUG] Residual : 7.56e+00 (# of elements : 1644)\n",
      "[Open3D DEBUG] ICP Iteration #12: Fitness 0.9757, RMSE 4.4582\n",
      "[Open3D DEBUG] Residual : 7.74e+00 (# of elements : 1648)\n",
      "[Open3D DEBUG] ICP Iteration #13: Fitness 0.9775, RMSE 4.4772\n",
      "[Open3D DEBUG] Residual : 7.82e+00 (# of elements : 1651)\n",
      "[Open3D DEBUG] ICP Iteration #14: Fitness 0.9781, RMSE 4.4821\n",
      "[Open3D DEBUG] Residual : 7.80e+00 (# of elements : 1652)\n",
      "[Open3D DEBUG] ICP Iteration #15: Fitness 0.9799, RMSE 4.4973\n",
      "[Open3D DEBUG] Residual : 7.79e+00 (# of elements : 1655)\n",
      "[Open3D DEBUG] ICP Iteration #16: Fitness 0.9811, RMSE 4.5043\n",
      "[Open3D DEBUG] Residual : 7.68e+00 (# of elements : 1657)\n",
      "[Open3D DEBUG] ICP Iteration #17: Fitness 0.9799, RMSE 4.4943\n",
      "[Open3D DEBUG] Residual : 7.66e+00 (# of elements : 1655)\n",
      "[Open3D DEBUG] ICP Iteration #18: Fitness 0.9799, RMSE 4.4955\n",
      "[Open3D DEBUG] Residual : 7.77e+00 (# of elements : 1655)\n",
      "[Open3D DEBUG] ICP Iteration #19: Fitness 0.9793, RMSE 4.4919\n",
      "[Open3D DEBUG] Residual : 7.75e+00 (# of elements : 1654)\n",
      "[Open3D DEBUG] ICP Iteration #20: Fitness 0.9799, RMSE 4.4987\n",
      "[Open3D DEBUG] Residual : 7.76e+00 (# of elements : 1655)\n",
      "[Open3D DEBUG] ICP Iteration #21: Fitness 0.9793, RMSE 4.4932\n",
      "[Open3D DEBUG] Residual : 7.79e+00 (# of elements : 1654)\n",
      "[Open3D DEBUG] ICP Iteration #22: Fitness 0.9787, RMSE 4.4875\n",
      "[Open3D DEBUG] Residual : 7.67e+00 (# of elements : 1653)\n",
      "[Open3D DEBUG] ICP Iteration #23: Fitness 0.9781, RMSE 4.4824\n",
      "[Open3D DEBUG] Residual : 7.63e+00 (# of elements : 1652)\n",
      "[Open3D DEBUG] ICP Iteration #24: Fitness 0.9793, RMSE 4.4943\n",
      "[Open3D DEBUG] Residual : 7.70e+00 (# of elements : 1654)\n",
      "[Open3D DEBUG] ICP Iteration #25: Fitness 0.9793, RMSE 4.4952\n",
      "[Open3D DEBUG] Residual : 7.65e+00 (# of elements : 1654)\n",
      "[Open3D DEBUG] ICP Iteration #26: Fitness 0.9799, RMSE 4.5009\n",
      "[Open3D DEBUG] Residual : 7.75e+00 (# of elements : 1655)\n",
      "[Open3D DEBUG] ICP Iteration #27: Fitness 0.9799, RMSE 4.5010\n",
      "[Open3D DEBUG] Residual : 7.72e+00 (# of elements : 1655)\n",
      "[Open3D DEBUG] ICP Iteration #28: Fitness 0.9805, RMSE 4.5068\n",
      "[Open3D DEBUG] Residual : 7.70e+00 (# of elements : 1656)\n",
      "[Open3D DEBUG] ICP Iteration #29: Fitness 0.9805, RMSE 4.5072\n",
      "[Open3D DEBUG] Residual : 7.66e+00 (# of elements : 1656)\n",
      "[Open3D DEBUG] ICP Iteration #30: Fitness 0.9811, RMSE 4.5135\n",
      "[Open3D DEBUG] Residual : 7.73e+00 (# of elements : 1657)\n",
      "[Open3D DEBUG] ICP Iteration #31: Fitness 0.9799, RMSE 4.5040\n",
      "[Open3D DEBUG] Residual : 7.72e+00 (# of elements : 1655)\n",
      "[Open3D DEBUG] ICP Iteration #32: Fitness 0.9799, RMSE 4.5047\n",
      "[Open3D DEBUG] Residual : 7.79e+00 (# of elements : 1655)\n",
      "[Open3D DEBUG] ICP Iteration #33: Fitness 0.9799, RMSE 4.5048\n",
      "[Open3D DEBUG] Residual : 7.85e+00 (# of elements : 1655)\n",
      "[Open3D DEBUG] ICP Iteration #34: Fitness 0.9793, RMSE 4.4995\n",
      "[Open3D DEBUG] Residual : 7.81e+00 (# of elements : 1654)\n",
      "[Open3D DEBUG] ICP Iteration #35: Fitness 0.9799, RMSE 4.5053\n",
      "[Open3D DEBUG] Residual : 7.91e+00 (# of elements : 1655)\n",
      "[Open3D DEBUG] ICP Iteration #36: Fitness 0.9799, RMSE 4.5060\n",
      "[Open3D DEBUG] Residual : 7.92e+00 (# of elements : 1655)\n",
      "[Open3D DEBUG] ICP Iteration #37: Fitness 0.9805, RMSE 4.5114\n",
      "[Open3D DEBUG] Residual : 7.96e+00 (# of elements : 1656)\n",
      "[Open3D DEBUG] ICP Iteration #38: Fitness 0.9805, RMSE 4.5118\n",
      "[Open3D DEBUG] Residual : 8.00e+00 (# of elements : 1656)\n",
      "[Open3D DEBUG] ICP Iteration #39: Fitness 0.9805, RMSE 4.5120\n",
      "[Open3D DEBUG] Residual : 7.98e+00 (# of elements : 1656)\n",
      "[Open3D DEBUG] ICP Iteration #40: Fitness 0.9805, RMSE 4.5119\n",
      "[Open3D DEBUG] Residual : 8.01e+00 (# of elements : 1656)\n",
      "[Open3D DEBUG] ICP Iteration #41: Fitness 0.9805, RMSE 4.5119\n",
      "[Open3D DEBUG] Residual : 7.98e+00 (# of elements : 1656)\n",
      "[Open3D DEBUG] ICP Iteration #42: Fitness 0.9805, RMSE 4.5117\n",
      "[Open3D DEBUG] Residual : 7.99e+00 (# of elements : 1656)\n",
      "[Open3D DEBUG] ICP Iteration #43: Fitness 0.9805, RMSE 4.5116\n",
      "[Open3D DEBUG] Residual : 8.00e+00 (# of elements : 1656)\n",
      "[Open3D DEBUG] ICP Iteration #44: Fitness 0.9805, RMSE 4.5112\n",
      "[Open3D DEBUG] Residual : 7.98e+00 (# of elements : 1656)\n",
      "[Open3D DEBUG] ICP Iteration #45: Fitness 0.9805, RMSE 4.5110\n",
      "[Open3D DEBUG] Residual : 7.98e+00 (# of elements : 1656)\n",
      "[Open3D DEBUG] ICP Iteration #46: Fitness 0.9805, RMSE 4.5108\n",
      "[Open3D DEBUG] Residual : 7.98e+00 (# of elements : 1656)\n",
      "[Open3D DEBUG] ICP Iteration #47: Fitness 0.9805, RMSE 4.5107\n",
      "[Open3D DEBUG] Residual : 7.98e+00 (# of elements : 1656)\n",
      "[Open3D DEBUG] ICP Iteration #48: Fitness 0.9805, RMSE 4.5107\n",
      "[Open3D DEBUG] Residual : 7.98e+00 (# of elements : 1656)\n",
      "[Open3D DEBUG] ICP Iteration #49: Fitness 0.9805, RMSE 4.5107\n",
      "[Open3D DEBUG] Residual : 7.98e+00 (# of elements : 1656)\n",
      "[Open3D DEBUG] ICP Iteration #50: Fitness 0.9805, RMSE 4.5107\n",
      "[Open3D DEBUG] Residual : 7.98e+00 (# of elements : 1656)\n",
      "Build o3d.pipelines.registration.PoseGraph\n"
     ]
    }
   ],
   "source": [
    "print(\"Full registration ...\")\n",
    "max_correspondence_distance_coarse = voxel_size * 2\n",
    "max_correspondence_distance_fine = voxel_size \n",
    "with o3d.utility.VerbosityContextManager(\n",
    "        o3d.utility.VerbosityLevel.Debug) as cm:\n",
    "    pose_graph = full_registration(pcd_list,\n",
    "                                   max_correspondence_distance_coarse,\n",
    "                                   max_correspondence_distance_fine)"
   ]
  },
  {
   "cell_type": "code",
   "execution_count": 6,
   "id": "bright-wrist",
   "metadata": {},
   "outputs": [
    {
     "name": "stdout",
     "output_type": "stream",
     "text": [
      "Optimizing PoseGraph ...\n",
      "[Open3D DEBUG] Validating PoseGraph - finished.\n",
      "[Open3D DEBUG] [GlobalOptimizationLM] Optimizing PoseGraph having 3 nodes and 3 edges.\n",
      "[Open3D DEBUG] Line process weight : 168966.666667\n",
      "[Open3D DEBUG] [Initial     ] residual : 4.900693e+05, lambda : 2.612471e+03\n",
      "[Open3D DEBUG] [Iteration 00] residual : 2.160977e+05, valid edges : 0, time : 0.000 sec.\n",
      "[Open3D DEBUG] [Iteration 01] residual : 1.528330e+05, valid edges : 0, time : 0.000 sec.\n",
      "[Open3D DEBUG] [Iteration 02] residual : 1.002286e+05, valid edges : 0, time : 0.000 sec.\n",
      "[Open3D DEBUG] [Iteration 03] residual : 6.294645e+04, valid edges : 0, time : 0.000 sec.\n",
      "[Open3D DEBUG] [Iteration 04] residual : 5.244144e+04, valid edges : 0, time : 0.000 sec.\n",
      "[Open3D DEBUG] [Iteration 05] residual : 5.160083e+04, valid edges : 0, time : 0.000 sec.\n",
      "[Open3D DEBUG] [Iteration 06] residual : 5.158694e+04, valid edges : 0, time : 0.000 sec.\n",
      "[Open3D DEBUG] [Iteration 07] residual : 5.158657e+04, valid edges : 0, time : 0.000 sec.\n",
      "[Open3D DEBUG] Current_residual - new_residual < 1.000000e-06 * current_residual\n",
      "[Open3D DEBUG] [GlobalOptimizationLM] total time : 0.001 sec.\n",
      "[Open3D DEBUG] [GlobalOptimizationLM] Optimizing PoseGraph having 3 nodes and 3 edges.\n",
      "[Open3D DEBUG] Line process weight : 168966.666667\n",
      "[Open3D DEBUG] [Initial     ] residual : 5.158657e+04, lambda : 2.749913e+03\n",
      "[Open3D DEBUG] Current_residual - new_residual < 1.000000e-06 * current_residual\n",
      "[Open3D DEBUG] [GlobalOptimizationLM] total time : 0.000 sec.\n",
      "[Open3D DEBUG] CompensateReferencePoseGraphNode : reference : 0\n"
     ]
    }
   ],
   "source": [
    "print(\"Optimizing PoseGraph ...\")\n",
    "option = o3d.pipelines.registration.GlobalOptimizationOption(\n",
    "    max_correspondence_distance=max_correspondence_distance_fine,\n",
    "    edge_prune_threshold=0.25,\n",
    "    reference_node=0)\n",
    "with o3d.utility.VerbosityContextManager(\n",
    "        o3d.utility.VerbosityLevel.Debug) as cm:\n",
    "    o3d.pipelines.registration.global_optimization(\n",
    "        pose_graph,\n",
    "        o3d.pipelines.registration.GlobalOptimizationLevenbergMarquardt(),\n",
    "        o3d.pipelines.registration.GlobalOptimizationConvergenceCriteria(),\n",
    "        option)"
   ]
  },
  {
   "cell_type": "code",
   "execution_count": 8,
   "id": "revised-staff",
   "metadata": {},
   "outputs": [
    {
     "name": "stdout",
     "output_type": "stream",
     "text": [
      "Transform points and display\n",
      "[[ 1.00000000e+00  0.00000000e+00  1.38777878e-17  0.00000000e+00]\n",
      " [-2.16840434e-19  1.00000000e+00  3.46944695e-18  0.00000000e+00]\n",
      " [ 0.00000000e+00  0.00000000e+00  1.00000000e+00  0.00000000e+00]\n",
      " [ 0.00000000e+00  0.00000000e+00  0.00000000e+00  1.00000000e+00]]\n",
      "[[ 9.50798997e-01  2.84243340e-01  1.23235515e-01 -5.34876854e+01]\n",
      " [-2.92327901e-01  9.54846139e-01  5.30400675e-02  1.37820637e+01]\n",
      " [-1.02594670e-01 -8.64556225e-02  9.90959010e-01  5.70362029e+01]\n",
      " [ 0.00000000e+00  0.00000000e+00  0.00000000e+00  1.00000000e+00]]\n",
      "[[ 9.96683622e-01  5.85009578e-03  8.11636282e-02 -3.22830609e+01]\n",
      " [-1.65340900e-02  9.91165477e-01  1.31596430e-01 -4.67681956e+01]\n",
      " [-7.96767346e-02 -1.32501973e-01  9.87975124e-01  1.77785185e+01]\n",
      " [ 0.00000000e+00  0.00000000e+00  0.00000000e+00  1.00000000e+00]]\n"
     ]
    },
    {
     "data": {
      "text/plain": [
       "'\\no3d.visualization.draw_geometries(pcd_list,\\n                                  zoom=1,\\n                                  front=[0.4257, -0.2125, -0.8795],\\n                                  lookat=[2.6172, 2.0475, 1.532],\\n                                  up=[-0.0694, -0.9768, 0.2024])\\n'"
      ]
     },
     "execution_count": 8,
     "metadata": {},
     "output_type": "execute_result"
    }
   ],
   "source": [
    "print(\"Transform points and display\")\n",
    "for point_id in range(len(pcd_list)):\n",
    "    print(pose_graph.nodes[point_id].pose)\n",
    "    pcd_list[point_id].transform(pose_graph.nodes[point_id].pose)\n",
    "    \n",
    "\"\"\"\n",
    "o3d.visualization.draw_geometries(pcd_list,\n",
    "                                  zoom=1,\n",
    "                                  front=[0.4257, -0.2125, -0.8795],\n",
    "                                  lookat=[2.6172, 2.0475, 1.532],\n",
    "                                  up=[-0.0694, -0.9768, 0.2024])\n",
    "\"\"\""
   ]
  },
  {
   "cell_type": "code",
   "execution_count": 9,
   "id": "powered-administration",
   "metadata": {},
   "outputs": [
    {
     "name": "stdout",
     "output_type": "stream",
     "text": [
      "[Open3D WARNING] GLFW Error: WGL: Failed to make context current: The requested transformation operation is not supported. \n",
      "[Open3D WARNING] GLFW Error: WGL: Failed to make context current: The requested transformation operation is not supported. \n"
     ]
    }
   ],
   "source": [
    "pcds = pcd_list\n",
    "pcd_combined = o3d.geometry.PointCloud()\n",
    "for point_id in range(len(pcds)):\n",
    "    pcds[point_id].transform(pose_graph.nodes[point_id].pose)\n",
    "    pcd_combined += pcds[point_id]\n",
    "o3d.io.write_point_cloud(\"multiway_registration.pcd\", pcd_combined)\n",
    "o3d.visualization.draw_geometries([pcd_combined],\n",
    "                                  zoom=1,\n",
    "                                  front=[0.4257, -0.2125, -0.8795],\n",
    "                                  lookat=[2.6172, 2.0475, 1.532],\n",
    "                                  up=[-0.0694, -0.9768, 0.2024])"
   ]
  },
  {
   "cell_type": "code",
   "execution_count": null,
   "id": "chinese-advance",
   "metadata": {},
   "outputs": [],
   "source": []
  }
 ],
 "metadata": {
  "kernelspec": {
   "display_name": "Python 3",
   "language": "python",
   "name": "python3"
  },
  "language_info": {
   "codemirror_mode": {
    "name": "ipython",
    "version": 3
   },
   "file_extension": ".py",
   "mimetype": "text/x-python",
   "name": "python",
   "nbconvert_exporter": "python",
   "pygments_lexer": "ipython3",
   "version": "3.8.3"
  },
  "toc": {
   "base_numbering": 1,
   "nav_menu": {},
   "number_sections": true,
   "sideBar": true,
   "skip_h1_title": false,
   "title_cell": "Table of Contents",
   "title_sidebar": "Contents",
   "toc_cell": false,
   "toc_position": {},
   "toc_section_display": true,
   "toc_window_display": false
  }
 },
 "nbformat": 4,
 "nbformat_minor": 5
}
