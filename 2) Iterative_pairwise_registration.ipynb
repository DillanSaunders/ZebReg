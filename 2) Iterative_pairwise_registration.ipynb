{
 "cells": [
  {
   "cell_type": "code",
   "execution_count": 1,
   "metadata": {},
   "outputs": [],
   "source": [
    "from RegistrationObj import RegistrationObj, IterativePairwise\n",
    "import scipy.stats as st\n",
    "from utils import colour_map, min_max_normalisation, mae, mae_permutation\n",
    "import matplotlib.pyplot as plt\n",
    "import numpy as np\n",
    "import open3d as o3d\n",
    "from open3d import JVisualizer\n",
    "import tifffile.tifffile as tiff\n"
   ]
  },
  {
   "cell_type": "markdown",
   "metadata": {},
   "source": [
    "# Introduction"
   ]
  },
  {
   "cell_type": "markdown",
   "metadata": {},
   "source": [
    "# 18ss TCF-GFP"
   ]
  },
  {
   "cell_type": "code",
   "execution_count": 3,
   "metadata": {},
   "outputs": [],
   "source": [
    "pos_path_source_list_18ss = [\"./datasets/4-multiway/18ss/18ss_position_1.csv\",\n",
    "                  \"./datasets/4-multiway/18ss/18ss_position_2.csv\"]\n",
    "\n",
    "color_path_source_list_18ss = [\"./datasets/4-multiway/18ss/18ss_TCF_mRNA_1.csv\",\n",
    "                  \"./datasets/4-multiway/18ss/18ss_TCF_mRNA_2.csv\"]\n",
    "\n",
    "pos_path_target_18ss = \"./datasets/4-multiway/18ss/18ss_position_3.csv\"\n",
    "color_path_target_18ss = \"./datasets/4-multiway/18ss/18ss_TCF_mRNA_3.csv\""
   ]
  },
  {
   "cell_type": "code",
   "execution_count": 4,
   "metadata": {},
   "outputs": [
    {
     "name": "stdout",
     "output_type": "stream",
     "text": [
      "Using median averaging\n",
      "Using median averaging\n"
     ]
    },
    {
     "data": {
      "application/vnd.jupyter.widget-view+json": {
       "model_id": "f6b5dba961dd4fc7ba264804034c7a2d",
       "version_major": 2,
       "version_minor": 0
      },
      "text/plain": [
       "JVisualizer with 1 geometries"
      ]
     },
     "metadata": {},
     "output_type": "display_data"
    },
    {
     "data": {
      "text/plain": [
       "PointCloud with 1642 points."
      ]
     },
     "execution_count": 4,
     "metadata": {},
     "output_type": "execute_result"
    }
   ],
   "source": [
    "tcf_18ss = IterativePairwise(pos_path_source_list_18ss, pos_path_target_18ss, color_path_source_list_18ss, color_path_target_18ss,\n",
    "                             algorithm = \"colored_icp\",pos_skiprows = [0,1,2], pos_usecols = [0,1,2], color_skiprows = [0,1,2], color_usecols = [0])\n",
    "\n",
    "tcf_18ss.iterative_registration(jupyter_visualise = True, verbose = False)"
   ]
  },
  {
   "cell_type": "code",
   "execution_count": 5,
   "metadata": {},
   "outputs": [
    {
     "name": "stdout",
     "output_type": "stream",
     "text": [
      "Using median averaging\n",
      "Using median averaging\n"
     ]
    }
   ],
   "source": [
    "tcf18ss_pcd = tcf_18ss.iterative_registration(jupyter_visualise = False, verbose = False)"
   ]
  },
  {
   "cell_type": "code",
   "execution_count": 6,
   "metadata": {},
   "outputs": [],
   "source": [
    "import copy \n",
    "tcf18ss_copy = copy.deepcopy(tcf18ss_pcd)\n",
    "intensity_array = tcf_18ss.registered_color"
   ]
  },
  {
   "cell_type": "code",
   "execution_count": 7,
   "metadata": {},
   "outputs": [
    {
     "data": {
      "text/plain": [
       "array([[10.94894  ],\n",
       "       [13.6116   ],\n",
       "       [ 4.96027  ],\n",
       "       ...,\n",
       "       [ 7.88553  ],\n",
       "       [ 5.3544175],\n",
       "       [ 6.15034  ]])"
      ]
     },
     "execution_count": 7,
     "metadata": {},
     "output_type": "execute_result"
    }
   ],
   "source": [
    "intensity_array"
   ]
  },
  {
   "cell_type": "markdown",
   "metadata": {},
   "source": [
    "## (Dillan) Exporting image"
   ]
  },
  {
   "cell_type": "code",
   "execution_count": 296,
   "metadata": {},
   "outputs": [
    {
     "name": "stdout",
     "output_type": "stream",
     "text": [
      "[[163.5     93.0311 254.094 ]\n",
      " [168.642   90.131  254.786 ]\n",
      " [174.297   95.4054 255.68  ]\n",
      " ...\n",
      " [168.799   75.2722 184.06  ]\n",
      " [160.292   63.7662 185.585 ]\n",
      " [176.96    71.3038 186.345 ]]\n"
     ]
    }
   ],
   "source": [
    "export_pcd = np.asarray(tcf18ss_copy.points)\n",
    "print(export_pcd)\n",
    "\n",
    "x_res=xdim_px/(191)\n",
    "y_res=ydim_px/(191)\n",
    "z_res= zdim_px/(77.1571)\n",
    "\n",
    "zdim_px = 150\n",
    "xdim_px = 1000\n",
    "ydim_px = 1000\n",
    "spot_diameter=2\n"
   ]
  },
  {
   "cell_type": "code",
   "execution_count": 299,
   "metadata": {},
   "outputs": [
    {
     "name": "stdout",
     "output_type": "stream",
     "text": [
      "1642 remaining\n",
      "(258, 321, 150)\n"
     ]
    },
    {
     "ename": "IndexError",
     "evalue": "index 150 is out of bounds for axis 0 with size 150",
     "output_type": "error",
     "traceback": [
      "\u001b[0;31m---------------------------------------------------------------------------\u001b[0m",
      "\u001b[0;31mIndexError\u001b[0m                                Traceback (most recent call last)",
      "\u001b[0;32m<ipython-input-299-16136bba3c3c>\u001b[0m in \u001b[0;36m<module>\u001b[0;34m\u001b[0m\n\u001b[1;32m     17\u001b[0m \u001b[0;34m\u001b[0m\u001b[0m\n\u001b[1;32m     18\u001b[0m             \u001b[0;32mif\u001b[0m \u001b[0mlength\u001b[0m\u001b[0;34m<=\u001b[0m\u001b[0mint\u001b[0m\u001b[0;34m(\u001b[0m\u001b[0mnp\u001b[0m\u001b[0;34m.\u001b[0m\u001b[0mround\u001b[0m\u001b[0;34m(\u001b[0m\u001b[0mpixel_radius\u001b[0m\u001b[0;34m)\u001b[0m\u001b[0;34m)\u001b[0m\u001b[0;34m:\u001b[0m\u001b[0;34m\u001b[0m\u001b[0;34m\u001b[0m\u001b[0m\n\u001b[0;32m---> 19\u001b[0;31m                 \u001b[0mexport_image\u001b[0m\u001b[0;34m[\u001b[0m\u001b[0mz\u001b[0m\u001b[0;34m,\u001b[0m\u001b[0mx\u001b[0m\u001b[0;34m,\u001b[0m\u001b[0my\u001b[0m\u001b[0;34m]\u001b[0m\u001b[0;34m=\u001b[0m\u001b[0mintensity_array\u001b[0m\u001b[0;34m[\u001b[0m\u001b[0mi\u001b[0m\u001b[0;34m]\u001b[0m\u001b[0;34m\u001b[0m\u001b[0;34m\u001b[0m\u001b[0m\n\u001b[0m\u001b[1;32m     20\u001b[0m \u001b[0;34m\u001b[0m\u001b[0m\n\u001b[1;32m     21\u001b[0m \u001b[0;31m#tiff.imwrite(\"my_test_image_2.tif\",export_image.astype(\"uint8\"), compression='jpeg')\u001b[0m\u001b[0;34m\u001b[0m\u001b[0;34m\u001b[0m\u001b[0;34m\u001b[0m\u001b[0m\n",
      "\u001b[0;31mIndexError\u001b[0m: index 150 is out of bounds for axis 0 with size 150"
     ]
    }
   ],
   "source": [
    "export_image=np.zeros([zdim_px,xdim_px,ydim_px])\n",
    "\n",
    "export_x_location=np.round((export_pcd[:,0]-np.min(export_pcd[:,0]))*x_res).astype('int')\n",
    "export_y_location=np.round((export_pcd[:,1]-np.min(export_pcd[:,1]))*y_res).astype('int')\n",
    "export_z_location=np.round((export_pcd[:,2]-np.min(export_pcd[:,2]))*z_res).astype('int')\n",
    "\n",
    "pixel_radius=int(np.round(x_res*(spot_diameter/2)))\n",
    "\n",
    "for i in range(len(export_pcd)):\n",
    "    print(len(export_pcd)-i,'remaining')\n",
    "    center_point=export_x_location[i],export_y_location[i],export_z_location[i]\n",
    "    print(center_point)\n",
    "    for x in range(center_point[0]-pixel_radius,center_point[0]+pixel_radius):\n",
    "        for y in range(center_point[1]-pixel_radius, center_point[1]+pixel_radius):\n",
    "            for z in range(center_point[2]-pixel_radius,center_point[2]+pixel_radius):\n",
    "                length=np.sqrt((x-center_point[0])**2+(y-center_point[1])**2+(z-center_point[2])**2)\n",
    "\n",
    "            if length<=int(np.round(pixel_radius)):\n",
    "                export_image[z,x,y]=intensity_array[i]\n",
    "\n",
    "#tiff.imwrite(\"my_test_image_2.tif\",export_image.astype(\"uint8\"), compression='jpeg')\n",
    "#print('Saved',image_name,'as Tiff')"
   ]
  },
  {
   "cell_type": "markdown",
   "metadata": {},
   "source": [
    "## (Kane) Exporting Image\n",
    "\n",
    "First, given an arbitrary range of x, y, z coordinate values, we scale them to fit into an image of dimension `n_depth` x `n_width` x `n_height` x `n_colors`."
   ]
  },
  {
   "cell_type": "markdown",
   "metadata": {},
   "source": [
    "### Pcd and colors"
   ]
  },
  {
   "cell_type": "code",
   "execution_count": 9,
   "metadata": {},
   "outputs": [],
   "source": [
    "export_pcd = np.asarray(tcf18ss_copy.points)\n",
    "intensity_array = tcf_18ss.registered_color"
   ]
  },
  {
   "cell_type": "markdown",
   "metadata": {},
   "source": [
    "### Setting parameters"
   ]
  },
  {
   "cell_type": "code",
   "execution_count": 10,
   "metadata": {},
   "outputs": [],
   "source": [
    "width = 1024\n",
    "height = 1024\n",
    "depth = 110\n",
    "color = 255"
   ]
  },
  {
   "cell_type": "markdown",
   "metadata": {},
   "source": [
    "### Interpolation"
   ]
  },
  {
   "cell_type": "code",
   "execution_count": 17,
   "metadata": {},
   "outputs": [],
   "source": [
    "from scipy.interpolate import interp1d\n",
    "\n",
    "x_lim = [np.min(export_pcd[:,0]), np.max(export_pcd[:,0]) ]\n",
    "y_lim = [np.min(export_pcd[:,1]), np.max(export_pcd[:,1]) ]\n",
    "z_lim = [np.min(export_pcd[:,2]), np.max(export_pcd[:,2])]\n",
    "color_lim = [np.min(intensity_array), np.max(intensity_array)]\n",
    "\n",
    "x_interp = interp1d(x_lim, [0,width-1])\n",
    "y_interp = interp1d(y_lim, [0,height-1])\n",
    "z_interp = interp1d(z_lim, [0,depth-1])\n",
    "color_interp = interp1d(color_lim, [0,color])\n",
    "\n",
    "data_x_interp = np.round(x_interp(export_pcd[:,0]))\n",
    "data_y_interp = np.round(y_interp(export_pcd[:,1]))\n",
    "data_z_interp = np.round(z_interp(export_pcd[:,2]))\n",
    "data_col_interp = color_interp(intensity_array).squeeze()"
   ]
  },
  {
   "cell_type": "code",
   "execution_count": 12,
   "metadata": {},
   "outputs": [],
   "source": [
    "combined_zyxc = np.vstack([data_z_interp, data_x_interp, data_y_interp, data_col_interp]).astype('int')"
   ]
  },
  {
   "cell_type": "code",
   "execution_count": 14,
   "metadata": {},
   "outputs": [],
   "source": [
    "export_image=np.zeros([depth, width, height])"
   ]
  },
  {
   "cell_type": "markdown",
   "metadata": {},
   "source": [
    "### Reconstructing image"
   ]
  },
  {
   "cell_type": "code",
   "execution_count": 15,
   "metadata": {},
   "outputs": [],
   "source": [
    "for i in range(combined_zyxc.shape[1]):\n",
    "    export_image[combined_zyxc[0][i], combined_zyxc[1][i], combined_zyxc[2][i]] = combined_zyxc[3][i]\n",
    "\n",
    "    "
   ]
  },
  {
   "cell_type": "markdown",
   "metadata": {},
   "source": [
    "### Morphological operations"
   ]
  },
  {
   "cell_type": "code",
   "execution_count": 22,
   "metadata": {},
   "outputs": [],
   "source": [
    "from skimage.morphology import erosion, dilation, opening, closing, white_tophat\n",
    "\n",
    "dilated = dilation(export_image)\n",
    "closing = closing(export_image)\n",
    "tiff.imwrite(\"closing.tif\",closing.astype(\"uint8\"), compression='jpeg')"
   ]
  },
  {
   "cell_type": "code",
   "execution_count": null,
   "metadata": {},
   "outputs": [],
   "source": []
  },
  {
   "cell_type": "markdown",
   "metadata": {},
   "source": [
    "### Saving image"
   ]
  },
  {
   "cell_type": "code",
   "execution_count": 456,
   "metadata": {},
   "outputs": [],
   "source": [
    "tiff.imwrite(\"kane_test.tif\",export_image.astype(\"uint8\"), compression='jpeg')"
   ]
  },
  {
   "cell_type": "code",
   "execution_count": 459,
   "metadata": {},
   "outputs": [
    {
     "data": {
      "text/plain": [
       "array([[0., 0., 0., ..., 0., 0., 0.],\n",
       "       [0., 0., 0., ..., 0., 0., 0.],\n",
       "       [0., 0., 0., ..., 0., 0., 0.],\n",
       "       ...,\n",
       "       [0., 0., 0., ..., 0., 0., 0.],\n",
       "       [0., 0., 0., ..., 0., 0., 0.],\n",
       "       [0., 0., 0., ..., 0., 0., 0.]])"
      ]
     },
     "execution_count": 459,
     "metadata": {},
     "output_type": "execute_result"
    }
   ],
   "source": [
    "export_image[100]"
   ]
  },
  {
   "cell_type": "markdown",
   "metadata": {},
   "source": [
    "## Results"
   ]
  },
  {
   "cell_type": "code",
   "execution_count": 4,
   "metadata": {},
   "outputs": [
    {
     "data": {
      "text/plain": [
       "--- Iterative Pairwise Object--- \n",
       "Algorithm used = colored_icp\n",
       "Source file names : ['./datasets/4-multiway/18ss/18ss_position_1.csv', './datasets/4-multiway/18ss/18ss_position_2.csv']\n",
       "Number of source files : 2\n",
       "Target file name: ./datasets/4-multiway/18ss/18ss_position_3.csv"
      ]
     },
     "execution_count": 4,
     "metadata": {},
     "output_type": "execute_result"
    }
   ],
   "source": [
    "tcf_18ss\n",
    "#print(tcf_18ss.combined_results)\n",
    "#print(tcf_18ss.registered_color)"
   ]
  },
  {
   "cell_type": "code",
   "execution_count": 5,
   "metadata": {},
   "outputs": [
    {
     "data": {
      "text/plain": [
       "[PointCloud with 1784 points., PointCloud with 1689 points.]"
      ]
     },
     "execution_count": 5,
     "metadata": {},
     "output_type": "execute_result"
    }
   ],
   "source": [
    "tcf_18ss.source_pcd"
   ]
  },
  {
   "cell_type": "markdown",
   "metadata": {},
   "source": [
    "# 21ss TCF-GFP"
   ]
  },
  {
   "cell_type": "code",
   "execution_count": 6,
   "metadata": {},
   "outputs": [],
   "source": [
    "pos_path_source_list_21ss = [\"./datasets/4-multiway/21ss/21ss_position_2_Detailed.csv\", \n",
    "                            \"./datasets/4-multiway/21ss/21ss_position_3_Detailed.csv\", \n",
    "                            \"./datasets/4-multiway/21ss/21ss_position_4_Detailed.csv\", \n",
    "                            \"./datasets/4-multiway/21ss/21ss_position_5_Detailed.csv\", \n",
    "                            \"./datasets/4-multiway/21ss/21ss_position_6_Detailed.csv\"]\n",
    "\n",
    "color_path_source_list_21ss = [\"./datasets/4-multiway/21ss/21ss_TCF_mRNA_2_Detailed.csv\", \n",
    "                            \"./datasets/4-multiway/21ss/21ss_TCF_mRNA_3_Detailed.csv\", \n",
    "                            \"./datasets/4-multiway/21ss/21ss_TCF_mRNA_4_Detailed.csv\", \n",
    "                            \"./datasets/4-multiway/21ss/21ss_TCF_mRNA_5_Detailed.csv\", \n",
    "                            \"./datasets/4-multiway/21ss/21ss_TCF_mRNA_6_Detailed.csv\"]\n",
    "\n",
    "pos_path_target_21ss = \"./datasets/4-multiway/21ss/21ss_position_1_Detailed.csv\"\n",
    "color_path_target_21ss = \"./datasets/4-multiway/21ss/21ss_TCF_mRNA_1_Detailed.csv\""
   ]
  },
  {
   "cell_type": "code",
   "execution_count": 7,
   "metadata": {},
   "outputs": [
    {
     "name": "stdout",
     "output_type": "stream",
     "text": [
      "Using median averaging\n",
      "Using median averaging\n",
      "Using median averaging\n",
      "Using median averaging\n",
      "Using median averaging\n"
     ]
    },
    {
     "data": {
      "application/vnd.jupyter.widget-view+json": {
       "model_id": "8ed9e79f876a47d5b455edebd0f4a3df",
       "version_major": 2,
       "version_minor": 0
      },
      "text/plain": [
       "JVisualizer with 1 geometries"
      ]
     },
     "metadata": {},
     "output_type": "display_data"
    },
    {
     "data": {
      "text/plain": [
       "PointCloud with 2445 points."
      ]
     },
     "execution_count": 7,
     "metadata": {},
     "output_type": "execute_result"
    }
   ],
   "source": [
    "tcf_21ss = IterativePairwise(pos_path_source_list_21ss, pos_path_target_21ss, color_path_source_list_21ss, color_path_target_21ss,\n",
    "                             algorithm = \"colored_icp\",pos_skiprows = [0,1,2], pos_usecols = [0,1,2], color_skiprows = [0,1,2], color_usecols = [0])\n",
    "\n",
    "tcf_21ss.iterative_registration(jupyter_visualise = True, verbose = False)"
   ]
  },
  {
   "cell_type": "code",
   "execution_count": 19,
   "metadata": {},
   "outputs": [
    {
     "data": {
      "application/vnd.jupyter.widget-view+json": {
       "model_id": "5f3dc1832ad448cfb3d016459521c5d9",
       "version_major": 2,
       "version_minor": 0
      },
      "text/plain": [
       "JVisualizer with 1 geometries"
      ]
     },
     "metadata": {},
     "output_type": "display_data"
    }
   ],
   "source": [
    "visualizer = JVisualizer()\n",
    "visualizer.add_geometry(tcf_21ss.source_pcd[0])\n",
    "visualizer.show()"
   ]
  },
  {
   "cell_type": "markdown",
   "metadata": {},
   "source": [
    "## Results"
   ]
  },
  {
   "cell_type": "code",
   "execution_count": 8,
   "metadata": {},
   "outputs": [
    {
     "name": "stdout",
     "output_type": "stream",
     "text": [
      "[[0.9934043632673769, 3.9496800635776044, 3.975903679934351, 13.92587076746204], [0.9647058823529412, 4.003149887730837, 4.149606590940501, 15.668203562498281], [1.0, 3.6675440824630114, 3.6675440824630114, 10.908370207223198], [0.9782383419689119, 4.1373649807313715, 4.229403820345099, 13.697322239855776], [0.9861954721148537, 4.262351243539903, 4.322014614810058, 8.661850165514954]]\n",
      "[[23.6356]\n",
      " [21.0235]\n",
      " [16.7638]\n",
      " ...\n",
      " [13.0945]\n",
      " [11.3764]\n",
      " [13.4074]]\n"
     ]
    }
   ],
   "source": [
    "tcf_21ss\n",
    "print(tcf_21ss.combined_results)\n",
    "print(tcf_21ss.registered_color)"
   ]
  },
  {
   "cell_type": "markdown",
   "metadata": {},
   "source": [
    "# 24ss TCF-GFP"
   ]
  },
  {
   "cell_type": "code",
   "execution_count": 9,
   "metadata": {},
   "outputs": [],
   "source": [
    "pos_path_source_list_24ss = [\"./datasets/4-multiway/24ss/24ss_positions_2_Detailed.csv\", \n",
    "                            \"./datasets/4-multiway/24ss/24ss_positions_4_Detailed.csv\", \n",
    "                            \"./datasets/4-multiway/24ss/24ss_positions_5_Detailed.csv\"]\n",
    "\n",
    "color_path_source_list_24ss = [\"./datasets/4-multiway/24ss/24ss_TCF_mRNA_2_Detailed.csv\", \n",
    "                            \"./datasets/4-multiway/24ss/24ss_TCF_mRNA_4_Detailed.csv\", \n",
    "                            \"./datasets/4-multiway/24ss/24ss_TCF_mRNA_5_Detailed.csv\"]\n",
    "\n",
    "pos_path_target_24ss = \"./datasets/4-multiway/24ss/24ss_positions_1_Detailed.csv\"\n",
    "color_path_target_24ss = \"./datasets/4-multiway/24ss/24ss_TCF_mRNA_1_Detailed.csv\""
   ]
  },
  {
   "cell_type": "code",
   "execution_count": 10,
   "metadata": {},
   "outputs": [
    {
     "name": "stdout",
     "output_type": "stream",
     "text": [
      "Using median averaging\n",
      "Using median averaging\n",
      "Using median averaging\n"
     ]
    },
    {
     "data": {
      "application/vnd.jupyter.widget-view+json": {
       "model_id": "fd57b7eaacb447e99901b5cfaf04b142",
       "version_major": 2,
       "version_minor": 0
      },
      "text/plain": [
       "JVisualizer with 1 geometries"
      ]
     },
     "metadata": {},
     "output_type": "display_data"
    },
    {
     "data": {
      "text/plain": [
       "PointCloud with 1133 points."
      ]
     },
     "execution_count": 10,
     "metadata": {},
     "output_type": "execute_result"
    }
   ],
   "source": [
    "tcf_24ss = IterativePairwise(pos_path_source_list_24ss, pos_path_target_24ss, color_path_source_list_24ss, color_path_target_24ss,\n",
    "                             algorithm = \"colored_icp\",pos_skiprows = [0,1,2], pos_usecols = [0,1,2], color_skiprows = [0,1,2], color_usecols = [0])\n",
    "\n",
    "tcf_24ss.iterative_registration(jupyter_visualise = True, verbose = False)"
   ]
  },
  {
   "cell_type": "markdown",
   "metadata": {},
   "source": [
    "## Results"
   ]
  },
  {
   "cell_type": "code",
   "execution_count": 11,
   "metadata": {},
   "outputs": [
    {
     "name": "stdout",
     "output_type": "stream",
     "text": [
      "--- Iterative Pairwise Object--- \n",
      "Algorithm used = colored_icp\n",
      "Source file names : ['./datasets/4-multiway/24ss/24ss_positions_2_Detailed.csv', './datasets/4-multiway/24ss/24ss_positions_4_Detailed.csv', './datasets/4-multiway/24ss/24ss_positions_5_Detailed.csv']\n",
      "Number of source files : 3\n",
      "Target file name: ./datasets/4-multiway/24ss/24ss_positions_1_Detailed.csv\n",
      "[[0.9461663947797716, 4.426941602180537, 4.67881931402874, 14.119038821162999], [0.9910536779324056, 3.991341263841081, 4.027371425701231, 14.164425143981822], [0.9497161394971614, 4.268511090435856, 4.494512531603254, 16.383053511181668]]\n",
      "[[11.2545 ]\n",
      " [13.1143 ]\n",
      " [ 9.55597]\n",
      " ...\n",
      " [28.0678 ]\n",
      " [ 5.54132]\n",
      " [ 4.15403]]\n"
     ]
    }
   ],
   "source": [
    "print(tcf_24ss)\n",
    "print(tcf_24ss.combined_results)\n",
    "print(tcf_24ss.registered_color)"
   ]
  },
  {
   "cell_type": "markdown",
   "metadata": {},
   "source": [
    "# 27ss TCF-GFP"
   ]
  },
  {
   "cell_type": "code",
   "execution_count": 12,
   "metadata": {},
   "outputs": [],
   "source": [
    "pos_path_source_list_27ss = [\"./datasets/4-multiway/27ss/27ss_positions_2_Detailed.csv\", \n",
    "                            \"./datasets/4-multiway/27ss/27ss_positions_3_Detailed.csv\", \n",
    "                            \"./datasets/4-multiway/27ss/27ss_positions_4_Detailed.csv\"]\n",
    "\n",
    "color_path_source_list_27ss = [\"./datasets/4-multiway/27ss/27ss_TCF_mRNA_2_Detailed.csv\", \n",
    "                            \"./datasets/4-multiway/27ss/27ss_TCF_mRNA_3_Detailed.csv\", \n",
    "                            \"./datasets/4-multiway/27ss/27ss_TCF_mRNA_4_Detailed.csv\"]\n",
    "\n",
    "pos_path_target_27ss = \"./datasets/4-multiway/27ss/27ss_positions_1_Detailed.csv\"\n",
    "color_path_target_27ss = \"./datasets/4-multiway/27ss/27ss_TCF_mRNA_1_Detailed.csv\""
   ]
  },
  {
   "cell_type": "code",
   "execution_count": 13,
   "metadata": {},
   "outputs": [
    {
     "name": "stdout",
     "output_type": "stream",
     "text": [
      "Using median averaging\n",
      "Using median averaging\n",
      "Using median averaging\n"
     ]
    },
    {
     "data": {
      "application/vnd.jupyter.widget-view+json": {
       "model_id": "615410dad04b40e9b9fbaab56421292a",
       "version_major": 2,
       "version_minor": 0
      },
      "text/plain": [
       "JVisualizer with 1 geometries"
      ]
     },
     "metadata": {},
     "output_type": "display_data"
    },
    {
     "data": {
      "text/plain": [
       "PointCloud with 1072 points."
      ]
     },
     "execution_count": 13,
     "metadata": {},
     "output_type": "execute_result"
    }
   ],
   "source": [
    "tcf_27ss = IterativePairwise(pos_path_source_list_27ss, pos_path_target_27ss, color_path_source_list_27ss, color_path_target_27ss,\n",
    "                             algorithm = \"colored_icp\",pos_skiprows = [0,1,2], pos_usecols = [0,1,2], color_skiprows = [0,1,2], color_usecols = [0])\n",
    "\n",
    "tcf_27ss.iterative_registration(jupyter_visualise = True, verbose = False)"
   ]
  },
  {
   "cell_type": "markdown",
   "metadata": {},
   "source": [
    "## Results"
   ]
  },
  {
   "cell_type": "code",
   "execution_count": 14,
   "metadata": {},
   "outputs": [
    {
     "name": "stdout",
     "output_type": "stream",
     "text": [
      "--- Iterative Pairwise Object--- \n",
      "Algorithm used = colored_icp\n",
      "Source file names : ['./datasets/4-multiway/27ss/27ss_positions_2_Detailed.csv', './datasets/4-multiway/27ss/27ss_positions_3_Detailed.csv', './datasets/4-multiway/27ss/27ss_positions_4_Detailed.csv']\n",
      "Number of source files : 3\n",
      "Target file name: ./datasets/4-multiway/27ss/27ss_positions_1_Detailed.csv\n",
      "[[0.8728897715988083, 4.405315432648464, 5.0468175661854415, 13.286058460043467], [0.8349650349650349, 4.7269094728480825, 5.661206487581874, 10.746549214754095], [0.8423326133909287, 4.738888921694707, 5.625911719858076, 13.61640235463426]]\n",
      "[[4.0697 ]\n",
      " [3.18208]\n",
      " [2.44042]\n",
      " ...\n",
      " [3.24431]\n",
      " [3.5399 ]\n",
      " [2.70443]]\n"
     ]
    }
   ],
   "source": [
    "print(tcf_27ss)\n",
    "print(tcf_27ss.combined_results)\n",
    "print(tcf_27ss.registered_color)"
   ]
  },
  {
   "cell_type": "markdown",
   "metadata": {},
   "source": [
    "# 30ss TCF-GFP"
   ]
  },
  {
   "cell_type": "code",
   "execution_count": 15,
   "metadata": {},
   "outputs": [],
   "source": [
    "pos_path_source_list_30ss = [\"./datasets/4-multiway/30ss/30ss_positions_2_Detailed.csv\", \n",
    "                            \"./datasets/4-multiway/30ss/30ss_positions_3_Detailed.csv\", \n",
    "                            \"./datasets/4-multiway/30ss/30ss_positions_4_Detailed.csv\"]\n",
    "\n",
    "color_path_source_list_30ss = [\"./datasets/4-multiway/30ss/30ss_TCF_mRNA_2_Detailed.csv\", \n",
    "                            \"./datasets/4-multiway/30ss/30ss_TCF_mRNA_3_Detailed.csv\", \n",
    "                            \"./datasets/4-multiway/30ss/30ss_TCF_mRNA_4_Detailed.csv\"]\n",
    "\n",
    "pos_path_target_30ss = \"./datasets/4-multiway/30ss/30ss_positions_1_Detailed.csv\"\n",
    "color_path_target_30ss = \"./datasets/4-multiway/30ss/30ss_TCF_mRNA_1_Detailed.csv\""
   ]
  },
  {
   "cell_type": "code",
   "execution_count": 16,
   "metadata": {},
   "outputs": [
    {
     "name": "stdout",
     "output_type": "stream",
     "text": [
      "Using median averaging\n",
      "Using median averaging\n",
      "Using median averaging\n"
     ]
    },
    {
     "data": {
      "application/vnd.jupyter.widget-view+json": {
       "model_id": "45454637bfbf48a3b0378dc496c5e81a",
       "version_major": 2,
       "version_minor": 0
      },
      "text/plain": [
       "JVisualizer with 1 geometries"
      ]
     },
     "metadata": {},
     "output_type": "display_data"
    },
    {
     "data": {
      "text/plain": [
       "PointCloud with 723 points."
      ]
     },
     "execution_count": 16,
     "metadata": {},
     "output_type": "execute_result"
    }
   ],
   "source": [
    "tcf_30ss = IterativePairwise(pos_path_source_list_30ss, pos_path_target_30ss, color_path_source_list_30ss, color_path_target_30ss,\n",
    "                             algorithm = \"colored_icp\",pos_skiprows = [0,1,2], pos_usecols = [0,1,2], color_skiprows = [0,1,2], color_usecols = [0])\n",
    "\n",
    "tcf_30ss.iterative_registration(jupyter_visualise = True, verbose = False)"
   ]
  },
  {
   "cell_type": "markdown",
   "metadata": {},
   "source": [
    "## Results"
   ]
  },
  {
   "cell_type": "code",
   "execution_count": 17,
   "metadata": {},
   "outputs": [
    {
     "name": "stdout",
     "output_type": "stream",
     "text": [
      "--- Iterative Pairwise Object--- \n",
      "Algorithm used = colored_icp\n",
      "Source file names : ['./datasets/4-multiway/30ss/30ss_positions_2_Detailed.csv', './datasets/4-multiway/30ss/30ss_positions_3_Detailed.csv', './datasets/4-multiway/30ss/30ss_positions_4_Detailed.csv']\n",
      "Number of source files : 3\n",
      "Target file name: ./datasets/4-multiway/30ss/30ss_positions_1_Detailed.csv\n",
      "[[0.9712140175219024, 4.205840509801781, 4.330498153777865, 13.25255238679289], [0.981838819523269, 4.522451523199233, 4.606103805709276, 14.062648630814083], [0.9267605633802817, 4.469329716623448, 4.822529025535939, 12.449271770604414]]\n",
      "[[11.97485  ]\n",
      " [10.294    ]\n",
      " [12.047    ]\n",
      " [ 9.6051   ]\n",
      " [13.5733   ]\n",
      " [ 6.493    ]\n",
      " [15.1822   ]\n",
      " [14.0903   ]\n",
      " [12.8005   ]\n",
      " [12.95445  ]\n",
      " [13.576    ]\n",
      " [10.408    ]\n",
      " [ 8.29087  ]\n",
      " [27.0825   ]\n",
      " [ 6.62229  ]\n",
      " [17.3099   ]\n",
      " [14.8464   ]\n",
      " [15.3465   ]\n",
      " [ 8.08554  ]\n",
      " [11.5319   ]\n",
      " [ 9.89793  ]\n",
      " [12.0415   ]\n",
      " [ 2.8231   ]\n",
      " [ 9.317835 ]\n",
      " [ 4.85589  ]\n",
      " [10.312835 ]\n",
      " [ 7.04905  ]\n",
      " [ 5.87414  ]\n",
      " [ 9.96144  ]\n",
      " [ 2.1744   ]\n",
      " [ 2.182335 ]\n",
      " [ 6.1658   ]\n",
      " [16.3605   ]\n",
      " [ 4.82407  ]\n",
      " [ 7.281055 ]\n",
      " [ 2.78149  ]\n",
      " [ 1.       ]\n",
      " [ 4.78531  ]\n",
      " [ 2.98132  ]\n",
      " [19.8189   ]\n",
      " [11.3953   ]\n",
      " [18.5615   ]\n",
      " [14.6044   ]\n",
      " [15.1868   ]\n",
      " [18.15095  ]\n",
      " [ 5.73744  ]\n",
      " [12.59765  ]\n",
      " [11.9362   ]\n",
      " [ 8.261005 ]\n",
      " [34.4974   ]\n",
      " [23.3089   ]\n",
      " [21.5087   ]\n",
      " [15.7968   ]\n",
      " [17.0916   ]\n",
      " [13.4803   ]\n",
      " [ 8.79023  ]\n",
      " [32.4184   ]\n",
      " [ 1.1754985]\n",
      " [ 0.925039 ]\n",
      " [ 8.10304  ]\n",
      " [ 1.88796  ]\n",
      " [ 4.51546  ]\n",
      " [ 6.067975 ]\n",
      " [11.7873   ]\n",
      " [16.0121   ]\n",
      " [ 5.87291  ]\n",
      " [20.01     ]\n",
      " [ 8.41877  ]\n",
      " [ 1.89012  ]\n",
      " [30.5949   ]\n",
      " [ 2.30811  ]\n",
      " [ 1.78639  ]\n",
      " [ 6.73001  ]\n",
      " [ 5.46052  ]\n",
      " [11.0099   ]\n",
      " [ 2.04842  ]\n",
      " [ 2.06477  ]\n",
      " [12.3184   ]\n",
      " [ 4.72282  ]\n",
      " [ 1.62516  ]\n",
      " [ 1.050055 ]\n",
      " [ 2.09273  ]\n",
      " [ 2.95024  ]\n",
      " [ 1.03196  ]\n",
      " [ 2.13776  ]\n",
      " [ 6.39146  ]\n",
      " [ 3.03256  ]\n",
      " [10.4334   ]\n",
      " [ 9.56106  ]\n",
      " [ 3.47708  ]\n",
      " [ 0.666017 ]\n",
      " [ 1.97972  ]\n",
      " [ 3.08953  ]\n",
      " [ 4.63179  ]\n",
      " [11.2174   ]\n",
      " [17.1687   ]\n",
      " [ 9.42581  ]\n",
      " [ 6.234945 ]\n",
      " [ 5.11153  ]\n",
      " [ 4.94303  ]\n",
      " [15.236195 ]\n",
      " [ 8.6349   ]\n",
      " [ 9.28024  ]\n",
      " [ 3.34038  ]\n",
      " [ 2.596035 ]\n",
      " [10.9083   ]\n",
      " [ 4.6885   ]\n",
      " [ 7.745725 ]\n",
      " [ 4.22981  ]\n",
      " [11.9687   ]\n",
      " [ 8.78476  ]\n",
      " [11.2389   ]\n",
      " [10.545875 ]\n",
      " [ 9.72484  ]\n",
      " [ 2.67752  ]\n",
      " [ 1.58719  ]\n",
      " [ 1.42891  ]\n",
      " [12.0654   ]\n",
      " [37.5698   ]\n",
      " [34.9539   ]\n",
      " [13.8249   ]\n",
      " [22.818    ]\n",
      " [10.7255   ]\n",
      " [24.6166   ]\n",
      " [18.6166   ]\n",
      " [24.1066   ]\n",
      " [34.4025   ]\n",
      " [10.3182   ]\n",
      " [21.4353   ]\n",
      " [15.2727   ]\n",
      " [34.3344   ]\n",
      " [17.8497   ]\n",
      " [15.8811   ]\n",
      " [37.4496   ]\n",
      " [18.859    ]\n",
      " [ 9.905225 ]\n",
      " [ 9.92997  ]\n",
      " [12.2939   ]\n",
      " [18.5806   ]\n",
      " [ 9.92935  ]\n",
      " [ 1.28317  ]\n",
      " [ 1.09937  ]\n",
      " [ 1.11452  ]\n",
      " [ 2.46114  ]\n",
      " [ 8.25746  ]\n",
      " [ 3.70829  ]\n",
      " [ 7.84991  ]\n",
      " [16.8214   ]\n",
      " [ 8.087205 ]\n",
      " [ 1.19545  ]\n",
      " [ 2.02157  ]\n",
      " [ 5.58734  ]\n",
      " [ 8.17274  ]\n",
      " [ 1.43689  ]\n",
      " [ 2.50836  ]\n",
      " [ 1.40098  ]\n",
      " [ 0.810391 ]\n",
      " [ 1.08029  ]\n",
      " [ 1.5356235]\n",
      " [ 1.15636  ]\n",
      " [ 1.53893  ]\n",
      " [ 7.34756  ]\n",
      " [ 1.90249  ]\n",
      " [ 1.16019  ]\n",
      " [ 2.20641  ]\n",
      " [ 1.14568  ]\n",
      " [ 4.33754  ]\n",
      " [ 0.884427 ]\n",
      " [ 2.47318  ]\n",
      " [ 1.06438  ]\n",
      " [ 0.948962 ]\n",
      " [ 1.19597  ]\n",
      " [ 1.43553  ]\n",
      " [ 0.574664 ]\n",
      " [ 0.844361 ]\n",
      " [ 5.5649   ]\n",
      " [10.23     ]\n",
      " [ 1.59707  ]\n",
      " [ 0.843924 ]\n",
      " [ 2.01599  ]\n",
      " [ 2.17341  ]\n",
      " [ 1.55829  ]\n",
      " [ 1.60102  ]\n",
      " [ 2.47042  ]\n",
      " [ 1.06927  ]\n",
      " [ 1.78338  ]\n",
      " [ 8.01017  ]\n",
      " [18.06     ]\n",
      " [37.4477   ]\n",
      " [ 8.33939  ]\n",
      " [ 3.24216  ]\n",
      " [20.6193   ]\n",
      " [ 5.85835  ]\n",
      " [17.093    ]\n",
      " [ 4.27055  ]\n",
      " [ 7.35048  ]\n",
      " [15.3817   ]\n",
      " [ 3.95975  ]\n",
      " [ 7.185265 ]\n",
      " [ 4.87315  ]\n",
      " [ 1.19766  ]\n",
      " [ 8.3113   ]\n",
      " [ 1.35084  ]\n",
      " [ 2.15223  ]\n",
      " [ 1.276395 ]\n",
      " [ 6.20751  ]\n",
      " [ 2.41036  ]\n",
      " [ 1.24639  ]\n",
      " [ 1.51443  ]\n",
      " [ 0.862063 ]\n",
      " [ 1.02074  ]\n",
      " [ 1.53529  ]\n",
      " [ 1.00323  ]\n",
      " [ 7.0041   ]\n",
      " [22.8071   ]\n",
      " [10.8643   ]\n",
      " [21.3689   ]\n",
      " [22.60305  ]\n",
      " [16.57635  ]\n",
      " [33.0316   ]\n",
      " [10.401685 ]\n",
      " [ 5.75292  ]\n",
      " [11.027865 ]\n",
      " [ 0.765368 ]\n",
      " [ 1.11451  ]\n",
      " [ 4.07625  ]\n",
      " [ 6.47502  ]\n",
      " [ 8.45776  ]\n",
      " [ 1.26301  ]\n",
      " [ 8.76692  ]\n",
      " [ 2.44076  ]\n",
      " [ 7.44879  ]\n",
      " [ 1.68974  ]\n",
      " [ 6.12487  ]\n",
      " [ 4.95459  ]\n",
      " [ 3.10638  ]\n",
      " [14.8238   ]\n",
      " [ 7.60081  ]\n",
      " [ 6.95581  ]\n",
      " [12.1108   ]\n",
      " [ 5.24746  ]\n",
      " [ 9.0809   ]\n",
      " [15.0519   ]\n",
      " [ 2.86304  ]\n",
      " [ 9.37357  ]\n",
      " [11.3445   ]\n",
      " [ 5.1883   ]\n",
      " [ 1.44306  ]\n",
      " [ 3.75184  ]\n",
      " [ 2.19556  ]\n",
      " [ 1.153735 ]\n",
      " [ 0.758308 ]\n",
      " [ 2.31151  ]\n",
      " [ 1.4822   ]\n",
      " [ 1.12317  ]\n",
      " [ 4.11535  ]\n",
      " [ 8.84347  ]\n",
      " [18.5311   ]\n",
      " [ 5.66852  ]\n",
      " [ 1.09222  ]\n",
      " [ 1.84975  ]\n",
      " [ 2.06869  ]\n",
      " [ 3.21154  ]\n",
      " [ 6.47019  ]\n",
      " [ 1.83874  ]\n",
      " [ 4.74     ]\n",
      " [ 2.14907  ]\n",
      " [ 2.22161  ]\n",
      " [ 3.917795 ]\n",
      " [ 4.89437  ]\n",
      " [ 1.98551  ]\n",
      " [ 2.84919  ]\n",
      " [ 3.08987  ]\n",
      " [ 1.5002   ]\n",
      " [ 0.973599 ]\n",
      " [ 1.59432  ]\n",
      " [ 5.66569  ]\n",
      " [ 2.78072  ]\n",
      " [ 9.537395 ]\n",
      " [ 8.601695 ]\n",
      " [ 5.32182  ]\n",
      " [ 7.82968  ]\n",
      " [ 9.81151  ]\n",
      " [ 3.16397  ]\n",
      " [14.865235 ]\n",
      " [ 3.902625 ]\n",
      " [13.9054   ]\n",
      " [ 7.86574  ]\n",
      " [16.742    ]\n",
      " [ 5.02745  ]\n",
      " [ 2.60171  ]\n",
      " [ 3.39151  ]\n",
      " [ 5.633025 ]\n",
      " [16.2454   ]\n",
      " [ 3.25996  ]\n",
      " [ 5.32308  ]\n",
      " [ 6.29806  ]\n",
      " [ 5.46101  ]\n",
      " [ 5.00788  ]\n",
      " [ 4.012867 ]\n",
      " [ 1.377595 ]\n",
      " [ 0.622842 ]\n",
      " [10.9979   ]\n",
      " [11.203    ]\n",
      " [16.3922   ]\n",
      " [ 5.20134  ]\n",
      " [16.6914   ]\n",
      " [21.58785  ]\n",
      " [21.618    ]\n",
      " [14.62865  ]\n",
      " [18.3687   ]\n",
      " [19.9317   ]\n",
      " [17.267    ]\n",
      " [12.0555   ]\n",
      " [27.955    ]\n",
      " [22.5767   ]\n",
      " [13.3873   ]\n",
      " [23.1477   ]\n",
      " [ 2.58609  ]\n",
      " [ 5.78646  ]\n",
      " [ 9.36412  ]\n",
      " [14.5275   ]\n",
      " [ 6.1107   ]\n",
      " [ 5.32547  ]\n",
      " [ 3.92275  ]\n",
      " [10.887335 ]\n",
      " [ 8.65837  ]\n",
      " [12.8669   ]\n",
      " [ 5.15717  ]\n",
      " [ 4.50788  ]\n",
      " [ 1.075445 ]\n",
      " [ 4.64868  ]\n",
      " [ 0.9246245]\n",
      " [ 1.2124655]\n",
      " [ 6.59972  ]\n",
      " [12.277    ]\n",
      " [ 3.20792  ]\n",
      " [ 1.44039  ]\n",
      " [ 1.59864  ]\n",
      " [ 1.48071  ]\n",
      " [ 3.23495  ]\n",
      " [ 6.23335  ]\n",
      " [ 6.30918  ]\n",
      " [ 1.02833  ]\n",
      " [ 2.06469  ]\n",
      " [ 5.41607  ]\n",
      " [ 2.0968   ]\n",
      " [ 4.10704  ]\n",
      " [ 4.112    ]\n",
      " [ 2.243035 ]\n",
      " [ 4.96777  ]\n",
      " [ 7.63817  ]\n",
      " [ 5.94776  ]\n",
      " [ 2.66699  ]\n",
      " [17.0861   ]\n",
      " [ 2.54266  ]\n",
      " [ 6.59907  ]\n",
      " [ 6.9001   ]\n",
      " [12.8815   ]\n",
      " [ 4.76978  ]\n",
      " [17.3503   ]\n",
      " [ 3.55376  ]\n",
      " [ 5.45209  ]\n",
      " [ 1.06906  ]\n",
      " [ 4.63229  ]\n",
      " [10.3666   ]\n",
      " [ 7.07456  ]\n",
      " [21.4127   ]\n",
      " [ 3.04579  ]\n",
      " [13.7097   ]\n",
      " [30.9279   ]\n",
      " [12.662    ]\n",
      " [42.4165   ]\n",
      " [43.908    ]\n",
      " [59.3984   ]\n",
      " [20.2805   ]\n",
      " [14.9871   ]\n",
      " [ 9.65747  ]\n",
      " [ 1.16829  ]\n",
      " [ 7.79909  ]\n",
      " [ 6.68425  ]\n",
      " [17.2037   ]\n",
      " [ 1.437623 ]\n",
      " [ 5.49211  ]\n",
      " [ 5.21062  ]\n",
      " [ 2.99161  ]\n",
      " [ 2.97165  ]\n",
      " [ 1.76146  ]\n",
      " [ 0.800732 ]\n",
      " [ 1.456508 ]\n",
      " [ 0.670347 ]\n",
      " [ 0.936732 ]\n",
      " [ 1.0852   ]\n",
      " [ 0.800768 ]\n",
      " [ 3.45815  ]\n",
      " [ 2.0245865]\n",
      " [ 1.82996  ]\n",
      " [ 1.15364  ]\n",
      " [ 1.24712  ]\n",
      " [ 1.417988 ]\n",
      " [ 3.702095 ]\n",
      " [ 1.13586  ]\n",
      " [ 0.845415 ]\n",
      " [ 1.12988  ]\n",
      " [ 1.22246  ]\n",
      " [ 0.941912 ]\n",
      " [ 0.862907 ]\n",
      " [ 1.304865 ]\n",
      " [ 2.35573  ]\n",
      " [ 1.06506  ]\n",
      " [ 1.21577  ]\n",
      " [ 1.08305  ]\n",
      " [ 1.71205  ]\n",
      " [ 1.33105  ]\n",
      " [ 6.40156  ]\n",
      " [14.8946   ]\n",
      " [20.7752   ]\n",
      " [32.3555   ]\n",
      " [ 3.60037  ]\n",
      " [10.326    ]\n",
      " [39.6189   ]\n",
      " [14.1207   ]\n",
      " [ 5.406305 ]\n",
      " [25.27     ]\n",
      " [36.0002   ]\n",
      " [17.1736   ]\n",
      " [18.6916   ]\n",
      " [16.9617   ]\n",
      " [10.207    ]\n",
      " [19.7313   ]\n",
      " [ 0.996241 ]\n",
      " [ 5.502745 ]\n",
      " [ 2.2752655]\n",
      " [ 0.647887 ]\n",
      " [ 6.84778  ]\n",
      " [ 8.41578  ]\n",
      " [ 1.21904  ]\n",
      " [ 2.510595 ]\n",
      " [ 9.62949  ]\n",
      " [ 2.56913  ]\n",
      " [ 4.12724  ]\n",
      " [ 1.15722  ]\n",
      " [ 0.854679 ]\n",
      " [ 4.30926  ]\n",
      " [ 8.865995 ]\n",
      " [ 4.640645 ]\n",
      " [ 4.3946   ]\n",
      " [ 0.886451 ]\n",
      " [ 3.8189   ]\n",
      " [ 1.53553  ]\n",
      " [ 0.63685  ]\n",
      " [ 0.884447 ]\n",
      " [ 0.905079 ]\n",
      " [ 1.78483  ]\n",
      " [ 1.28554  ]\n",
      " [ 4.97074  ]\n",
      " [ 2.6693   ]\n",
      " [ 4.52877  ]\n",
      " [ 2.98203  ]\n",
      " [ 0.908553 ]\n",
      " [ 3.29085  ]\n",
      " [ 1.50498  ]\n",
      " [ 0.521517 ]\n",
      " [ 0.918043 ]\n",
      " [ 0.941848 ]\n",
      " [ 7.61594  ]\n",
      " [ 0.924407 ]\n",
      " [ 6.18051  ]\n",
      " [ 1.16397  ]\n",
      " [ 0.785111 ]\n",
      " [ 1.31311  ]\n",
      " [ 1.47207  ]\n",
      " [ 0.563909 ]\n",
      " [ 4.26466  ]\n",
      " [ 5.81471  ]\n",
      " [ 4.987755 ]\n",
      " [ 4.148685 ]\n",
      " [ 5.66039  ]\n",
      " [ 7.08353  ]\n",
      " [10.94881  ]\n",
      " [ 3.88458  ]\n",
      " [ 3.2807   ]\n",
      " [ 5.04461  ]\n",
      " [ 6.87027  ]\n",
      " [17.1723   ]\n",
      " [ 5.89573  ]\n",
      " [14.3372   ]\n",
      " [ 1.01994  ]\n",
      " [ 6.68401  ]\n",
      " [ 7.6638   ]\n",
      " [ 4.44526  ]\n",
      " [ 3.21286  ]\n",
      " [ 7.12566  ]\n",
      " [13.796    ]\n",
      " [ 4.31938  ]\n",
      " [ 8.15009  ]\n",
      " [ 0.757544 ]\n",
      " [ 1.0150765]\n",
      " [ 0.42434  ]\n",
      " [ 2.58144  ]\n",
      " [ 0.853963 ]\n",
      " [ 0.871632 ]\n",
      " [ 0.792781 ]\n",
      " [ 0.653727 ]\n",
      " [ 1.34577  ]\n",
      " [ 1.05907  ]\n",
      " [11.3289   ]\n",
      " [ 1.61479  ]\n",
      " [ 1.25597  ]\n",
      " [ 3.13152  ]\n",
      " [ 2.51935  ]\n",
      " [ 4.516115 ]\n",
      " [ 9.74419  ]\n",
      " [ 3.61828  ]\n",
      " [ 1.4907   ]\n",
      " [ 3.77532  ]\n",
      " [ 2.16254  ]\n",
      " [ 1.78734  ]\n",
      " [ 6.42938  ]\n",
      " [ 2.3569   ]\n",
      " [ 2.94895  ]\n",
      " [ 2.23935  ]\n",
      " [ 0.635236 ]\n",
      " [ 1.40507  ]\n",
      " [ 1.62491  ]\n",
      " [ 2.31974  ]\n",
      " [ 0.863782 ]\n",
      " [ 9.45051  ]\n",
      " [ 3.86438  ]\n",
      " [ 2.16309  ]\n",
      " [ 1.20582  ]\n",
      " [ 4.37235  ]\n",
      " [ 7.75194  ]\n",
      " [ 4.36038  ]\n",
      " [ 4.87329  ]\n",
      " [ 3.22038  ]\n",
      " [ 7.99505  ]\n",
      " [ 3.54175  ]\n",
      " [ 6.456945 ]\n",
      " [ 2.397055 ]\n",
      " [ 3.03804  ]\n",
      " [ 1.32661  ]\n",
      " [14.9303   ]\n",
      " [ 1.21382  ]\n",
      " [ 0.636472 ]\n",
      " [ 3.38382  ]\n",
      " [ 7.405985 ]\n",
      " [10.0678   ]\n",
      " [17.6682   ]\n",
      " [12.4793   ]\n",
      " [ 7.846315 ]\n",
      " [10.7906   ]\n",
      " [19.9846   ]\n",
      " [29.2813   ]\n",
      " [ 8.87659  ]\n",
      " [ 5.12761  ]\n",
      " [ 5.82468  ]\n",
      " [10.1307   ]\n",
      " [10.4425   ]\n",
      " [ 8.73411  ]\n",
      " [ 6.48472  ]\n",
      " [ 8.83381  ]\n",
      " [15.0046   ]\n",
      " [21.1295   ]\n",
      " [13.6697   ]\n",
      " [21.5081   ]\n",
      " [25.2711   ]\n",
      " [ 9.54395  ]\n",
      " [13.3195   ]\n",
      " [14.5249   ]\n",
      " [16.0805   ]\n",
      " [14.6973   ]\n",
      " [ 5.67515  ]\n",
      " [14.0724   ]\n",
      " [33.6162   ]\n",
      " [16.8183   ]\n",
      " [ 5.65043  ]\n",
      " [ 4.09618  ]\n",
      " [ 6.52851  ]\n",
      " [ 3.95025  ]\n",
      " [ 4.2091565]\n",
      " [ 0.999254 ]\n",
      " [ 2.4199   ]\n",
      " [ 4.11551  ]\n",
      " [ 1.61871  ]\n",
      " [ 3.26926  ]\n",
      " [ 0.9327625]\n",
      " [ 0.923002 ]\n",
      " [ 0.806717 ]\n",
      " [ 5.11037  ]\n",
      " [25.4519   ]\n",
      " [ 7.14945  ]\n",
      " [10.008    ]\n",
      " [ 7.59883  ]\n",
      " [ 5.69119  ]\n",
      " [ 8.19751  ]\n",
      " [ 7.45053  ]\n",
      " [17.8559   ]\n",
      " [ 5.58232  ]\n",
      " [ 4.37032  ]\n",
      " [ 2.486965 ]\n",
      " [ 1.99774  ]\n",
      " [ 2.39573  ]\n",
      " [ 6.69319  ]\n",
      " [16.5867   ]\n",
      " [ 4.09869  ]\n",
      " [24.4257   ]\n",
      " [ 6.10244  ]\n",
      " [14.23855  ]\n",
      " [ 2.8723   ]\n",
      " [ 6.02155  ]\n",
      " [ 6.59297  ]\n",
      " [ 5.8521   ]\n",
      " [33.062    ]\n",
      " [23.4911   ]\n",
      " [21.4213   ]\n",
      " [22.7013   ]\n",
      " [11.0184   ]\n",
      " [ 4.13304  ]\n",
      " [10.2608   ]\n",
      " [ 5.69872  ]\n",
      " [ 4.89082  ]\n",
      " [ 0.856365 ]\n",
      " [ 8.958115 ]\n",
      " [ 8.57962  ]\n",
      " [ 4.85137  ]\n",
      " [ 2.31868  ]\n",
      " [ 3.80447  ]\n",
      " [ 4.08315  ]\n",
      " [ 2.03426  ]\n",
      " [ 3.06297  ]\n",
      " [ 3.54853  ]\n",
      " [ 2.89062  ]\n",
      " [ 8.30633  ]\n",
      " [ 2.19944  ]\n",
      " [ 4.07574  ]\n",
      " [ 5.60233  ]\n",
      " [ 3.67123  ]\n",
      " [ 6.87957  ]\n",
      " [ 1.78402  ]\n",
      " [ 1.02881  ]\n",
      " [ 6.92454  ]\n",
      " [ 7.04248  ]\n",
      " [ 2.68704  ]\n",
      " [ 5.14737  ]\n",
      " [ 7.71724  ]\n",
      " [ 4.763505 ]\n",
      " [ 8.87301  ]\n",
      " [16.2759   ]\n",
      " [14.2689   ]\n",
      " [ 6.39117  ]\n",
      " [ 9.64462  ]\n",
      " [ 7.13044  ]\n",
      " [ 5.31031  ]\n",
      " [ 8.33932  ]\n",
      " [ 3.43393  ]\n",
      " [10.870355 ]\n",
      " [19.6864   ]\n",
      " [ 6.50658  ]\n",
      " [ 6.213    ]\n",
      " [18.6278   ]\n",
      " [ 3.91685  ]\n",
      " [ 3.16563  ]\n",
      " [ 3.519165 ]\n",
      " [ 1.       ]\n",
      " [ 2.11758  ]\n",
      " [ 1.37642  ]\n",
      " [ 5.670345 ]\n",
      " [ 0.833711 ]\n",
      " [ 6.40025  ]\n",
      " [ 0.649439 ]\n",
      " [ 5.8907   ]\n",
      " [10.9207   ]\n",
      " [11.4362   ]\n",
      " [10.416    ]\n",
      " [ 4.08774  ]\n",
      " [17.8219   ]\n",
      " [ 5.627835 ]\n",
      " [ 4.835565 ]\n",
      " [ 3.51882  ]\n",
      " [ 6.22966  ]\n",
      " [ 5.25511  ]\n",
      " [ 5.37687  ]\n",
      " [ 1.8054   ]\n",
      " [ 5.35583  ]\n",
      " [ 5.4115   ]\n",
      " [ 4.98813  ]\n",
      " [12.051755 ]\n",
      " [ 5.18173  ]\n",
      " [14.5998   ]\n",
      " [ 3.71337  ]\n",
      " [24.9683   ]\n",
      " [ 5.22214  ]\n",
      " [ 5.13172  ]\n",
      " [24.0337   ]\n",
      " [ 6.96049  ]\n",
      " [24.282    ]\n",
      " [ 4.32878  ]\n",
      " [10.0501   ]\n",
      " [38.8448   ]\n",
      " [ 6.73647  ]\n",
      " [48.4757   ]\n",
      " [ 6.82594  ]\n",
      " [ 7.422725 ]\n",
      " [ 6.79023  ]\n",
      " [17.8908   ]\n",
      " [ 5.05545  ]\n",
      " [ 4.86406  ]\n",
      " [ 6.52609  ]\n",
      " [ 7.94462  ]\n",
      " [ 4.20314  ]\n",
      " [ 1.30943  ]\n",
      " [ 2.11509  ]\n",
      " [ 5.92257  ]\n",
      " [ 5.13921  ]\n",
      " [ 5.02655  ]\n",
      " [ 6.85384  ]\n",
      " [ 3.53552  ]\n",
      " [ 4.2197   ]\n",
      " [ 8.09532  ]\n",
      " [ 3.92893  ]\n",
      " [ 3.69527  ]\n",
      " [16.9836   ]]\n"
     ]
    }
   ],
   "source": [
    "print(tcf_30ss)\n",
    "print(tcf_30ss.combined_results)\n",
    "print(tcf_30ss.registered_color)"
   ]
  }
 ],
 "metadata": {
  "kernelspec": {
   "display_name": "Python 3",
   "language": "python",
   "name": "python3"
  },
  "language_info": {
   "codemirror_mode": {
    "name": "ipython",
    "version": 3
   },
   "file_extension": ".py",
   "mimetype": "text/x-python",
   "name": "python",
   "nbconvert_exporter": "python",
   "pygments_lexer": "ipython3",
   "version": "3.8.3"
  },
  "toc": {
   "base_numbering": 1,
   "nav_menu": {},
   "number_sections": true,
   "sideBar": true,
   "skip_h1_title": false,
   "title_cell": "Table of Contents",
   "title_sidebar": "Contents",
   "toc_cell": false,
   "toc_position": {
    "height": "calc(100% - 180px)",
    "left": "10px",
    "top": "150px",
    "width": "307.2px"
   },
   "toc_section_display": true,
   "toc_window_display": true
  }
 },
 "nbformat": 4,
 "nbformat_minor": 5
}
