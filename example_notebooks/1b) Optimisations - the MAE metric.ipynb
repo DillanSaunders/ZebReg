{
 "cells": [
  {
   "cell_type": "markdown",
   "metadata": {},
   "source": [
    "# Introduction\n",
    "\n"
   ]
  },
  {
   "cell_type": "markdown",
   "metadata": {},
   "source": [
    "All zebrafish tailbuds were stained with DAPI for nuclear DNA detection prior to microscopy imaging. On top of the DNA stain, combinations of mRNA sequences were also labelled with distinct fluorophores using the `Hybridisation Chain Reaction (HCR)` technique. Consequently, for our data, our images range from having 1 (DAPI only) up to 6 (DAPI and 5 other fluorophores) color channels. \n",
    "\n",
    "For two images with at least 1 color channel in common, the shared color channel confers additional information that we can leverage to assess the quality of the image registration. We do this by quantifying the difference in normalised signal intensities between the shared color channel of the 2 images (color intensity residual) after image registration is performed. Using this metric, we expect the optimal image registration output to show the smallest color intensity residual. However, it is obvious that images of different zebrafish tailbuds, even if registered optimally, will *always* differ in their color intensities due to biological variability (different rates of development, stochasticity in nuclear positioning etc.). The relevant question, therefore, is whether the residual is smaller than the cases where the images were poorly registered.\n",
    "\n",
    "**Null hypothesis**: Image registration has no effect in reducing the color intensity residuals.\n",
    "\n",
    "**Alternate hypothesis**: Image registration reduces the color intensity residuals.\n"
   ]
  },
  {
   "cell_type": "markdown",
   "metadata": {},
   "source": [
    "## The mean absolute error (MAE) test statistic"
   ]
  },
  {
   "cell_type": "markdown",
   "metadata": {},
   "source": [
    "\n",
    "To quantify the residuals, we chose the mean absolute error ${\\rm MAE} = \\frac {1} {n} \\sum_{i=1}^{n}\n",
    "\\mid{y_i - x_i}\\mid$ as our summary statistic, which measures the error between paired observations of a phenomenon. Its chief advantage over related measures such as the root mean-squared error (RMSE) lie in increased interpretability, as each residual contributes proportionately (as opposed to quadratically in the case of the RMSE) to the overall MAE statistic. In addition, no computational difficulty arises when the intensity of a target point is 0, which occurs when the target point is unmapped.\n",
    "\n",
    "Using the MAE as our test statistic, we will conduct a permutation test. Briefly, we construct the MAE distribution under the null hypothesis and obtain the probability of observing a result as extreme as the registration's MAE value, assuming that the null hypothesis were true (p-value). "
   ]
  },
  {
   "cell_type": "code",
   "execution_count": 2,
   "metadata": {},
   "outputs": [],
   "source": [
    "import RegistrationObj\n",
    "import scipy.stats as st\n",
    "from utils import colour_map, min_max_normalisation, mae, mae_permutation\n",
    "import matplotlib.pyplot as plt"
   ]
  },
  {
   "cell_type": "markdown",
   "metadata": {},
   "source": [
    "# Importing data"
   ]
  },
  {
   "cell_type": "code",
   "execution_count": 2,
   "metadata": {},
   "outputs": [
    {
     "data": {
      "text/plain": [
       "(PointCloud with 2363 points., PointCloud with 2878 points.)"
      ]
     },
     "execution_count": 2,
     "metadata": {},
     "output_type": "execute_result"
    }
   ],
   "source": [
    "target_path = \"./datasets/2-permutation/xyz_target.xls\"\n",
    "source_path = \"./datasets/2-permutation/xyz_source.xls\"\n",
    "target_color_path = \"./datasets/2-permutation/sox2_target.xls\"\n",
    "source_color_path = \"./datasets/2-permutation/sox2_source.xls\"\n",
    "\n",
    "myObj = RegistrationObj.RegistrationObj(source_path, target_path, source_color_path, target_color_path, algorithm = \"colored_icp\",\n",
    "                        pos_skiprows = [0,1,2], pos_usecols = [0,1,2], color_skiprows = [0,1,2], color_usecols = [0])\n",
    "myObj.create_pcd()\n"
   ]
  },
  {
   "cell_type": "code",
   "execution_count": 3,
   "metadata": {},
   "outputs": [
    {
     "data": {
      "text/plain": [
       "(PointCloud with 1835 points., PointCloud with 1951 points.)"
      ]
     },
     "execution_count": 3,
     "metadata": {},
     "output_type": "execute_result"
    }
   ],
   "source": [
    "target_path = \"./datasets/6-multiple_alignment/18ss/sox2_tbxta_TCF/18ss_pos_3_Detailed.csv\"\n",
    "source_path = \"./datasets/6-multiple_alignment/18ss/sox2_tbxta_hes6_cdh6/18ss_pos_1_posterior_Detailed.csv\"\n",
    "target_color_path = \"./datasets/6-multiple_alignment/18ss/sox2_tbxta_TCF/18ss_sox2_3_Detailed.csv\"\n",
    "source_color_path = \"./datasets/6-multiple_alignment/18ss/sox2_tbxta_hes6_cdh6/18ss_sox2_1_max_posterior_Detailed.csv\"\n",
    "\n",
    "myObj = RegistrationObj.RegistrationObj(source_path, target_path, source_color_path, target_color_path, algorithm = \"colored_icp\",\n",
    "                        pos_skiprows = [0,1,2], pos_usecols = [0,1,2], color_skiprows = [0,1,2], color_usecols = [0])\n",
    "myObj.create_pcd()\n"
   ]
  },
  {
   "cell_type": "markdown",
   "metadata": {},
   "source": [
    "# Null MAE distribution"
   ]
  },
  {
   "cell_type": "code",
   "execution_count": 4,
   "metadata": {},
   "outputs": [
    {
     "data": {
      "text/plain": [
       "(16.004869785183303, 16.848690214816692)"
      ]
     },
     "execution_count": 4,
     "metadata": {},
     "output_type": "execute_result"
    }
   ],
   "source": [
    "num_permute = 1000\n",
    "mae_null = mae_permutation(num_permute, myObj.norm_target_color)\n",
    "loc, scale = st.norm.fit(mae_null)\n",
    "st.norm.interval(alpha=0.95, loc=loc, scale=scale) "
   ]
  },
  {
   "cell_type": "markdown",
   "metadata": {},
   "source": [
    "# MAE value of Colored ICP registration "
   ]
  },
  {
   "cell_type": "code",
   "execution_count": 5,
   "metadata": {},
   "outputs": [
    {
     "name": "stdout",
     "output_type": "stream",
     "text": [
      ":: RANSAC registration on point clouds.\n",
      "   Since the  voxel size is 10.000,\n",
      "   we use a liberal distance threshold 15.000.\n",
      ":: Point Cloud was not downsampled\n",
      ":: Estimate normal with search radius 20.\n",
      ":: Compute FPFH feature with search radius 50.\n",
      "---------------------------------------\n",
      ":: Point Cloud was not downsampled\n",
      ":: Estimate normal with search radius 20.\n",
      ":: Compute FPFH feature with search radius 50.\n",
      "---------------------------------------\n"
     ]
    },
    {
     "data": {
      "text/plain": [
       "RegistrationResult with fitness=9.874659e-01, inlier_rmse=4.265936e+00, and correspondence_set size of 1812\n",
       "Access transformation to get result."
      ]
     },
     "execution_count": 5,
     "metadata": {},
     "output_type": "execute_result"
    }
   ],
   "source": [
    "myObj.perform_registration()"
   ]
  },
  {
   "cell_type": "code",
   "execution_count": 6,
   "metadata": {},
   "outputs": [
    {
     "name": "stdout",
     "output_type": "stream",
     "text": [
      "--- Registration Object--- \n",
      "Algorithm used = colored_icp \n",
      "Preprocessing performed = True \n",
      "Registration performed = True \n",
      "            \n",
      "Fitness = 0.99 \n",
      "Inlier RMSE = 4.27 \n",
      "Scaled inlier RMSE = 4.32 \n",
      "MAE = 14.81 \n",
      "            \n",
      "Registered color = None\n"
     ]
    }
   ],
   "source": [
    "print(myObj)"
   ]
  },
  {
   "cell_type": "markdown",
   "metadata": {},
   "source": [
    "# Plotting results"
   ]
  },
  {
   "cell_type": "code",
   "execution_count": 9,
   "metadata": {},
   "outputs": [
    {
     "data": {
      "image/png": "[encoded data removed]",
      "text/plain": [
       "<Figure size 720x648 with 1 Axes>"
      ]
     },
     "metadata": {
      "needs_background": "light"
     },
     "output_type": "display_data"
    }
   ],
   "source": [
    "kwargs = dict(alpha=0.5, bins=100)\n",
    "fig = plt.figure(figsize = (10,9))\n",
    "\n",
    "plt.hist(mae_null, **kwargs, color='b', label='Null distribution')\n",
    "plt.axvline(x=myObj.mae, linewidth=3.0, linestyle = '--', color = 'r', label = \"Colored ICP MAE score\")\n",
    "\n",
    "plt.gca().set(xlabel = \"MAE\", ylabel='Counts')\n",
    "plt.xlim(14,18)\n",
    "plt.legend(loc = \"upper right\");"
   ]
  },
  {
   "cell_type": "markdown",
   "metadata": {},
   "source": [
    "# Conclusion"
   ]
  },
  {
   "cell_type": "code",
   "execution_count": null,
   "metadata": {
    "collapsed": true
   },
   "outputs": [],
   "source": []
  }
 ],
 "metadata": {
  "kernelspec": {
   "display_name": "Python 3",
   "language": "python",
   "name": "python3"
  },
  "language_info": {
   "codemirror_mode": {
    "name": "ipython",
    "version": 3
   },
   "file_extension": ".py",
   "mimetype": "text/x-python",
   "name": "python",
   "nbconvert_exporter": "python",
   "pygments_lexer": "ipython3",
   "version": "3.8.3"
  },
  "toc": {
   "base_numbering": 1,
   "nav_menu": {},
   "number_sections": true,
   "sideBar": true,
   "skip_h1_title": false,
   "title_cell": "Table of Contents",
   "title_sidebar": "Contents",
   "toc_cell": false,
   "toc_position": {},
   "toc_section_display": true,
   "toc_window_display": false
  }
 },
 "nbformat": 4,
 "nbformat_minor": 4
}
